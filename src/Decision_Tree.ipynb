{
 "cells": [
  {
   "cell_type": "code",
   "execution_count": 2,
   "metadata": {},
   "outputs": [
    {
     "name": "stdout",
     "output_type": "stream",
     "text": [
      "The sizes are  Train: 27000 , Validation: 3000 , Test: 7000\n"
     ]
    }
   ],
   "source": [
    "from __future__ import print_function\n",
    "import time,sys,statistics,csv\n",
    "import numpy as np\n",
    "\n",
    "## The possible attributes in the data with the prediction at index 0. Smaller names for brevity.\n",
    "attributes = [\"rich\",\"age\",\"wc\",\"fnlwgt\",\"edu\",\"edun\",\"mar\",\"occ\",\"rel\",\"race\",\"sex\",\"capg\",\"canpl\",\"hpw\",\"nc\"]\n",
    "\n",
    "## Get the encoding of the csv file by replacing each categorical attribute value by its index.\n",
    "wc_l = \"Private, Self-emp-not-inc, Self-emp-inc, Federal-gov, Local-gov, State-gov, Without-pay, Never-worked\".split(\", \")\n",
    "edu_l = \"Bachelors, Some-college, 11th, HS-grad, Prof-school, Assoc-acdm, Assoc-voc, 9th, 7th-8th, 12th, Masters, 1st-4th, 10th, Doctorate, 5th-6th, Preschool\".split(\", \")\n",
    "mar_l = \"Married-civ-spouse, Divorced, Never-married, Separated, Widowed, Married-spouse-absent, Married-AF-spouse\".split(\", \")\n",
    "occ_l = \"Tech-support, Craft-repair, Other-service, Sales, Exec-managerial, Prof-specialty, Handlers-cleaners, Machine-op-inspct, Adm-clerical, Farming-fishing, Transport-moving, Priv-house-serv, Protective-serv, Armed-Forces\".split(\", \")\n",
    "rel_l = \"Wife, Own-child, Husband, Not-in-family, Other-relative, Unmarried\".split(\", \")\n",
    "race_l = \"White, Asian-Pac-Islander, Amer-Indian-Eskimo, Other, Black\".split(\", \")\n",
    "sex_l = \"Female, Male\".split(\", \")\n",
    "nc_l = \"United-States, Cambodia, England, Puerto-Rico, Canada, Germany, Outlying-US(Guam-USVI-etc), India, Japan, Greece, South, China, Cuba, Iran, Honduras, Philippines, Italy, Poland, Jamaica, Vietnam, Mexico, Portugal, Ireland, France, Dominican-Republic, Laos, Ecuador, Taiwan, Haiti, Columbia, Hungary, Guatemala, Nicaragua, Scotland, Thailand, Yugoslavia, El-Salvador, Trinadad&Tobago, Peru, Hong, Holand-Netherlands\".split(\", \")\n",
    "encode = {\n",
    "    \"rich\"   : {\"0\":0,\"1\":1},\n",
    "    \"wc\"     : {wc_l[i]:i for i in range(len(wc_l))},\n",
    "    \"edu\"    : {edu_l[i]:i for i in range(len(edu_l))},\n",
    "    \"mar\"    : {mar_l[i]:i for i in range(len(mar_l))},\n",
    "    \"occ\"    : {occ_l[i]:i for i in range(len(occ_l))},\n",
    "    \"rel\"    : {rel_l[i]:i for i in range(len(rel_l))},\n",
    "    \"race\"   : {race_l[i]:i for i in range(len(race_l))},\n",
    "    \"sex\"    : {sex_l[i]:i for i in range(len(sex_l))},\n",
    "    \"nc\"     : {nc_l[i]:i for i in range(len(nc_l))},\n",
    "    }\n",
    "\n",
    "def medians(file):\n",
    "    \"\"\"\n",
    "    Given a csv file, find the medians of the categorical attributes for the whole data.\n",
    "    params(1):\n",
    "        file : string : the name of the file\n",
    "    outputs(6):\n",
    "        median values for the categorical columns\n",
    "    \"\"\"\n",
    "    fin = open(file,\"r\")\n",
    "    reader = csv.reader(fin)\n",
    "    age, fnlwgt, edun, capg, capl, hpw = ([] for i in range(6))\n",
    "    total = 0\n",
    "    for row in reader:\n",
    "        total+=1\n",
    "        if(total==1):\n",
    "            continue\n",
    "        l = [x.lstrip().rstrip() for x in row]\n",
    "        age.append(int(l[0]));\n",
    "        fnlwgt.append(int(l[2]));\n",
    "        edun.append(int(l[4]));\n",
    "        capg.append(int(l[10]));\n",
    "        capl.append(int(l[11]));\n",
    "        hpw.append(int(l[12]));\n",
    "    fin.close()\n",
    "    return(statistics.median(age),statistics.median(fnlwgt),statistics.median(edun),statistics.median(capg),statistics.median(capl),statistics.median(hpw))\n",
    "\n",
    "def preprocess(file):\n",
    "    \"\"\"\n",
    "    Given a file, read its data by encoding categorical attributes and binarising continuos attributes based on median.\n",
    "    params(1):\n",
    "        file : string : the name of the file\n",
    "    outputs(6):\n",
    "        2D numpy array with the data\n",
    "    \"\"\"\n",
    "    # Calculate the medians\n",
    "    agem,fnlwgtm,edunm,capgm,caplm,hpwm = medians(file)\n",
    "    fin = open(file,\"r\")\n",
    "    reader = csv.reader(fin)\n",
    "    data = []\n",
    "    total = 0\n",
    "    for row in reader:\n",
    "        total+=1\n",
    "        # Skip line 0 in the file\n",
    "        if(total==1):\n",
    "            continue\n",
    "        l = [x.lstrip().rstrip() for x in row]\n",
    "        t = [0 for i in range(15)]\n",
    "\n",
    "        # Encode the categorical attributes\n",
    "        t[0] = encode[\"rich\"][l[-1]]; t[2] = encode[\"wc\"][l[1]]; t[4] = encode[\"edu\"][l[3]]\n",
    "        t[6] = encode[\"mar\"][l[5]]; t[7] = encode[\"occ\"][l[6]]; t[8] = encode[\"rel\"][l[7]]\n",
    "        t[9] = encode[\"race\"][l[8]]; t[10] = encode[\"sex\"][l[9]]; t[14] = encode[\"nc\"][l[13]]\n",
    "\n",
    "        # Binarize the numerical attributes based on median.\n",
    "        # Modify this section to read the file in part c where you split the continuos attributes baed on dynamic median values.\n",
    "        t[1] = float(l[0])>=agem; t[3] = float(l[2])>=fnlwgtm; t[5] = float(l[4])>=edunm;\n",
    "        t[11] = float(l[10])>=capgm; t[12] = float(l[11])>=caplm; t[13] = float(l[12])>=hpwm;\n",
    "\n",
    "        # Convert some of the booleans to ints\n",
    "        data.append([int(x) for x in t])\n",
    "\n",
    "    return np.array(data,dtype=np.int64)\n",
    "\n",
    "## Read the data\n",
    "train_data = preprocess(\"../dataset/train.csv\")\n",
    "valid_data = preprocess(\"../dataset/valid.csv\")\n",
    "test_data = preprocess(\"../dataset/test.csv\")\n",
    "\n",
    "print(\"The sizes are \",\"Train:\",len(train_data),\", Validation:\",len(valid_data),\", Test:\",len(test_data))\n"
   ]
  },
  {
   "cell_type": "code",
   "execution_count": 4,
   "metadata": {},
   "outputs": [
    {
     "name": "stdout",
     "output_type": "stream",
     "text": [
      "[0 1 5 0 0 1 2 8 3 0 1 1 1 1 0]\n"
     ]
    }
   ],
   "source": []
  },
  {
   "cell_type": "code",
   "execution_count": null,
   "metadata": {},
   "outputs": [],
   "source": []
  }
 ],
 "metadata": {
  "kernelspec": {
   "display_name": "Python 2",
   "language": "python",
   "name": "python2"
  },
  "language_info": {
   "codemirror_mode": {
    "name": "ipython",
    "version": 2
   },
   "file_extension": ".py",
   "mimetype": "text/x-python",
   "name": "python",
   "nbconvert_exporter": "python",
   "pygments_lexer": "ipython2",
   "version": "2.7.12"
  }
 },
 "nbformat": 4,
 "nbformat_minor": 2
}
