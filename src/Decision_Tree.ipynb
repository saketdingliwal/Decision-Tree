{
 "cells": [
  {
   "cell_type": "code",
   "execution_count": 389,
   "metadata": {},
   "outputs": [],
   "source": [
    "from __future__ import print_function\n",
    "import time,sys,statistics,csv,math\n",
    "import numpy as np\n",
    "\n",
    "## The possible attributes in the data with the prediction at index 0. Smaller names for brevity.\n",
    "attributes = [\"rich\",\"age\",\"wc\",\"fnlwgt\",\"edu\",\"edun\",\"mar\",\"occ\",\"rel\",\"race\",\"sex\",\"capg\",\"canpl\",\"hpw\",\"nc\"]\n",
    "\n",
    "## Get the encoding of the csv file by replacing each categorical attribute value by its index.\n",
    "wc_l = \"Private, Self-emp-not-inc, Self-emp-inc, Federal-gov, Local-gov, State-gov, Without-pay, Never-worked\".split(\", \")\n",
    "edu_l = \"Bachelors, Some-college, 11th, HS-grad, Prof-school, Assoc-acdm, Assoc-voc, 9th, 7th-8th, 12th, Masters, 1st-4th, 10th, Doctorate, 5th-6th, Preschool\".split(\", \")\n",
    "mar_l = \"Married-civ-spouse, Divorced, Never-married, Separated, Widowed, Married-spouse-absent, Married-AF-spouse\".split(\", \")\n",
    "occ_l = \"Tech-support, Craft-repair, Other-service, Sales, Exec-managerial, Prof-specialty, Handlers-cleaners, Machine-op-inspct, Adm-clerical, Farming-fishing, Transport-moving, Priv-house-serv, Protective-serv, Armed-Forces\".split(\", \")\n",
    "rel_l = \"Wife, Own-child, Husband, Not-in-family, Other-relative, Unmarried\".split(\", \")\n",
    "race_l = \"White, Asian-Pac-Islander, Amer-Indian-Eskimo, Other, Black\".split(\", \")\n",
    "sex_l = \"Female, Male\".split(\", \")\n",
    "nc_l = \"United-States, Cambodia, England, Puerto-Rico, Canada, Germany, Outlying-US(Guam-USVI-etc), India, Japan, Greece, South, China, Cuba, Iran, Honduras, Philippines, Italy, Poland, Jamaica, Vietnam, Mexico, Portugal, Ireland, France, Dominican-Republic, Laos, Ecuador, Taiwan, Haiti, Columbia, Hungary, Guatemala, Nicaragua, Scotland, Thailand, Yugoslavia, El-Salvador, Trinadad&Tobago, Peru, Hong, Holand-Netherlands\".split(\", \")\n",
    "encode = {\n",
    "    \"rich\"   : {\"0\":0,\"1\":1},\n",
    "    \"wc\"     : {wc_l[i]:i for i in range(len(wc_l))},\n",
    "    \"edu\"    : {edu_l[i]:i for i in range(len(edu_l))},\n",
    "    \"mar\"    : {mar_l[i]:i for i in range(len(mar_l))},\n",
    "    \"occ\"    : {occ_l[i]:i for i in range(len(occ_l))},\n",
    "    \"rel\"    : {rel_l[i]:i for i in range(len(rel_l))},\n",
    "    \"race\"   : {race_l[i]:i for i in range(len(race_l))},\n",
    "    \"sex\"    : {sex_l[i]:i for i in range(len(sex_l))},\n",
    "    \"nc\"     : {nc_l[i]:i for i in range(len(nc_l))},\n",
    "    }\n",
    "\n",
    "def medians(file):\n",
    "    \"\"\"\n",
    "    Given a csv file, find the medians of the categorical attributes for the whole data.\n",
    "    params(1):\n",
    "        file : string : the name of the file\n",
    "    outputs(6):\n",
    "        median values for the categorical columns\n",
    "    \"\"\"\n",
    "    fin = open(file,\"r\")\n",
    "    reader = csv.reader(fin)\n",
    "    age, fnlwgt, edun, capg, capl, hpw = ([] for i in range(6))\n",
    "    total = 0\n",
    "    for row in reader:\n",
    "        total+=1\n",
    "        if(total==1):\n",
    "            continue\n",
    "        l = [x.lstrip().rstrip() for x in row]\n",
    "        age.append(int(l[0]));\n",
    "        fnlwgt.append(int(l[2]));\n",
    "        edun.append(int(l[4]));\n",
    "        capg.append(int(l[10]));\n",
    "        capl.append(int(l[11]));\n",
    "        hpw.append(int(l[12]));\n",
    "    fin.close()\n",
    "    return(statistics.median(age),statistics.median(fnlwgt),statistics.median(edun),statistics.median(capg),statistics.median(capl),statistics.median(hpw))\n",
    "\n",
    "def preprocess(file,median):\n",
    "    \"\"\"\n",
    "    Given a file, read its data by encoding categorical attributes and binarising continuos attributes based on median.\n",
    "    params(1):\n",
    "        file : string : the name of the file\n",
    "    outputs(6):\n",
    "        2D numpy array with the data\n",
    "    \"\"\"\n",
    "    # Calculate the medians\n",
    "    agem,fnlwgtm,edunm,capgm,caplm,hpwm = medians(file)\n",
    "    fin = open(file,\"r\")\n",
    "    reader = csv.reader(fin)\n",
    "    data = []\n",
    "    total = 0\n",
    "    for row in reader:\n",
    "        total+=1\n",
    "        # Skip line 0 in the file\n",
    "        if(total==1):\n",
    "            continue\n",
    "        l = [x.lstrip().rstrip() for x in row]\n",
    "        t = [0 for i in range(15)]\n",
    "\n",
    "        # Encode the categorical attributes\n",
    "        t[0] = encode[\"rich\"][l[-1]]; t[2] = encode[\"wc\"][l[1]]; t[4] = encode[\"edu\"][l[3]]\n",
    "        t[6] = encode[\"mar\"][l[5]]; t[7] = encode[\"occ\"][l[6]]; t[8] = encode[\"rel\"][l[7]]\n",
    "        t[9] = encode[\"race\"][l[8]]; t[10] = encode[\"sex\"][l[9]]; t[14] = encode[\"nc\"][l[13]]\n",
    "\n",
    "        # Binarize the numerical attributes based on median.\n",
    "        # Modify this section to read the file in part c where you split the continuos attributes baed on dynamic median values.\n",
    "        if median:\n",
    "            t[1] = float(l[0])>=agem; t[3] = float(l[2])>=fnlwgtm; t[5] = float(l[4])>=edunm;\n",
    "            t[11] = float(l[10])>=capgm; t[12] = float(l[11])>=caplm; t[13] = float(l[12])>=hpwm;\n",
    "        else:\n",
    "            t[1] = float(l[0]); t[3] = float(l[2]); t[5] = float(l[4]);\n",
    "            t[11] = float(l[10]); t[12] = float(l[11]); t[13] = float(l[12]);\n",
    "        # Convert some of the booleans to ints\n",
    "        data.append([int(x) for x in t])\n",
    "\n",
    "    return np.array(data,dtype=np.int64)"
   ]
  },
  {
   "cell_type": "code",
   "execution_count": 390,
   "metadata": {},
   "outputs": [
    {
     "name": "stdout",
     "output_type": "stream",
     "text": [
      "The sizes are  Train: 27000 , Validation: 3000 , Test: 7000\n"
     ]
    }
   ],
   "source": [
    "## Read the data\n",
    "train_data = preprocess(\"../dataset/train.csv\",1)\n",
    "valid_data = preprocess(\"../dataset/valid.csv\",1)\n",
    "test_data = preprocess(\"../dataset/test.csv\",1)\n",
    "train_data_raw = preprocess(\"../dataset/train.csv\",0)\n",
    "valid_data_raw = preprocess(\"../dataset/valid.csv\",0)\n",
    "test_data_raw = preprocess(\"../dataset/test.csv\",0)\n",
    "\n",
    "print(\"The sizes are \",\"Train:\",len(train_data),\", Validation:\",len(valid_data),\", Test:\",len(test_data))"
   ]
  },
  {
   "cell_type": "code",
   "execution_count": 391,
   "metadata": {},
   "outputs": [],
   "source": [
    "cont_attribute = [1,3,5,11,12,13]"
   ]
  },
  {
   "cell_type": "code",
   "execution_count": 392,
   "metadata": {},
   "outputs": [],
   "source": [
    "class Tree:\n",
    "    def __init__(self):\n",
    "        attr = None\n",
    "        label =None\n",
    "        child_list = None\n",
    "        index_in_list = None\n",
    "        thresh = None\n",
    "        is_leaf =None"
   ]
  },
  {
   "cell_type": "code",
   "execution_count": 393,
   "metadata": {},
   "outputs": [],
   "source": [
    "def i_gain(pos_val,neg_val):\n",
    "    total = pos_val + neg_val\n",
    "    i_gain_val =  -1 * ((1.0 * pos_val)/total) * math.log((1.0 * pos_val)/total) - ((1.0 * neg_val)/total)*math.log((1.0*neg_val)/total)\n",
    "    return i_gain_val"
   ]
  },
  {
   "cell_type": "code",
   "execution_count": 394,
   "metadata": {},
   "outputs": [],
   "source": [
    "def median_data(pos_list,neg_list,attribute):\n",
    "    attr_data = []\n",
    "    for i in range(len(pos_list)):\n",
    "        ind = pos_list[i]\n",
    "        attr_value = train_data_raw[ind][attribute]\n",
    "        attr_data.append(attr_value)\n",
    "    for i in range(len(neg_list)):\n",
    "        ind = neg_list[i]\n",
    "        attr_value = train_data_raw[ind][attribute]\n",
    "        attr_data.append(attr_value)\n",
    "    median_value = statistics.median(attr_data)\n",
    "    return median_value\n",
    "    "
   ]
  },
  {
   "cell_type": "code",
   "execution_count": 395,
   "metadata": {},
   "outputs": [],
   "source": [
    "def information_gain(pos_list,neg_list,attribute,raw):\n",
    "    attr_map = {}\n",
    "    total_examples = len(pos_list) + len(neg_list)\n",
    "    if attribute in cont_attribute:\n",
    "        median_value = median_data(pos_list,neg_list,attribute)\n",
    "    for i in range(len(pos_list)):\n",
    "        ind = pos_list[i]\n",
    "        if (raw)  and (attribute in cont_attribute):\n",
    "            attr_value = train_data_raw[ind][attribute] >= median_value\n",
    "        else:\n",
    "            attr_value = train_data[ind][attribute]\n",
    "        if attr_value in attr_map:\n",
    "            attr_map[attr_value][0] +=1\n",
    "        else:\n",
    "            attr_map[attr_value] = [1,0]\n",
    "    for i in range(len(neg_list)):\n",
    "        ind = neg_list[i]\n",
    "        if (raw)  and (attribute in cont_attribute):\n",
    "            attr_value = train_data_raw[ind][attribute] >= median_value\n",
    "        else:\n",
    "            attr_value = train_data[ind][attribute]\n",
    "        if attr_value in attr_map:\n",
    "            attr_map[attr_value][1] +=1\n",
    "        else:\n",
    "            attr_map[attr_value] = [0,1]\n",
    "    i_gain_map = {}\n",
    "    for key in attr_map.keys():\n",
    "        pos_val = attr_map[key][0]\n",
    "        neg_val = attr_map[key][1]\n",
    "        if pos_val==0 or neg_val==0:\n",
    "            i_gain_map[key] = 0\n",
    "        else:\n",
    "            i_gain_map[key] = i_gain(pos_val,neg_val)\n",
    "    final_i_gain = 0.0\n",
    "    for key in attr_map.keys():\n",
    "        val_total = attr_map[key][0] + attr_map[key][1]\n",
    "        final_i_gain += ((val_total/(1.0 * total_examples)) * i_gain_map[key])\n",
    "    return final_i_gain"
   ]
  },
  {
   "cell_type": "code",
   "execution_count": 396,
   "metadata": {},
   "outputs": [],
   "source": [
    "def best_attr(pos_list,neg_list,raw):\n",
    "    minn = float(\"inf\")\n",
    "    ind = -1\n",
    "    for i in range(14):\n",
    "        inf_i = information_gain(pos_list,neg_list,i+1,raw)\n",
    "#         print (i,inf_i)\n",
    "        if inf_i < minn:\n",
    "            ind = i+1\n",
    "            minn = inf_i\n",
    "    return ind"
   ]
  },
  {
   "cell_type": "code",
   "execution_count": 397,
   "metadata": {},
   "outputs": [],
   "source": [
    "def make_tree(pos_list,neg_list,raw):\n",
    "    global global_node_list\n",
    "    if len(pos_list)==0:\n",
    "        leaf_node = Tree()\n",
    "        leaf_node.label = 0\n",
    "        leaf_node.is_leaf = 1\n",
    "        return leaf_node\n",
    "    if len(neg_list)==0:\n",
    "        leaf_node = Tree()\n",
    "        leaf_node.label = 1\n",
    "        leaf_node.is_leaf = 1\n",
    "        return leaf_node\n",
    "    pos_ex = len(pos_list)\n",
    "    neg_ex = len(neg_list)\n",
    "    curr_i_gain = i_gain(pos_ex,neg_ex)\n",
    "    best_attribute = best_attr(pos_list,neg_list,raw)\n",
    "    new_best_gain = information_gain(pos_list,neg_list,best_attribute,raw)\n",
    "    new_node = Tree()\n",
    "    if pos_ex > neg_ex :\n",
    "        new_node.label = 1\n",
    "    else:\n",
    "        new_node.label = 0\n",
    "    if curr_i_gain == new_best_gain:\n",
    "        new_node.is_leaf = 1\n",
    "        return new_node\n",
    "    if raw:\n",
    "        new_node.index_in_list = len(global_node_list_raw)\n",
    "        global_node_list_raw.append(new_node)\n",
    "    else:\n",
    "        new_node.index_in_list = len(global_node_list)\n",
    "        global_node_list.append(new_node)\n",
    "    attr_map = {}\n",
    "    new_node.attr = best_attribute\n",
    "    if raw and (best_attribute in cont_attribute):\n",
    "        median_value = median_data(pos_list,neg_list,best_attribute)\n",
    "        new_node.thresh = median_value\n",
    "    new_node.child_list = {}\n",
    "    new_node.is_leaf=0\n",
    "    for i in range(len(pos_list)):\n",
    "        ind = pos_list[i]\n",
    "        if (raw)  and (best_attribute in cont_attribute):\n",
    "            attr_value = train_data_raw[ind][best_attribute] >= median_value\n",
    "        else:\n",
    "            attr_value = train_data[ind][best_attribute]\n",
    "        if attr_value in attr_map:\n",
    "            attr_map[attr_value][0].append(ind)\n",
    "        else:\n",
    "            attr_map[attr_value] = [[ind],[]]\n",
    "    for i in range(len(neg_list)):\n",
    "        ind = neg_list[i]\n",
    "        if (raw)  and (best_attribute in cont_attribute):\n",
    "            attr_value = train_data_raw[ind][best_attribute] >= median_value\n",
    "        else:\n",
    "            attr_value = train_data[ind][best_attribute]\n",
    "        if attr_value in attr_map:\n",
    "            attr_map[attr_value][1].append(ind)\n",
    "        else:\n",
    "            attr_map[attr_value] = [[],[ind]]\n",
    "#     print (best_attribute)\n",
    "#     for key in attr_map.keys():\n",
    "#         print (key,len(attr_map[key][0]),len(attr_map[key][1]))\n",
    "#     print ()\n",
    "    for key in attr_map.keys():\n",
    "        new_node.child_list[key] = (make_tree(attr_map[key][0],attr_map[key][1],raw))\n",
    "    return new_node\n",
    "    "
   ]
  },
  {
   "cell_type": "code",
   "execution_count": 398,
   "metadata": {
    "scrolled": true
   },
   "outputs": [],
   "source": [
    "base_pos = []\n",
    "base_neg = []\n",
    "global_node_list = []\n",
    "global_node_list_raw = []\n",
    "for i in range(len(train_data)):\n",
    "    if train_data[i][0] == 1:\n",
    "        base_pos.append(i)\n",
    "    else:\n",
    "        base_neg.append(i)\n",
    "tree_root = make_tree(base_pos,base_neg,0)\n",
    "tree_root_raw = make_tree(base_pos,base_neg,1)"
   ]
  },
  {
   "cell_type": "code",
   "execution_count": 399,
   "metadata": {},
   "outputs": [
    {
     "name": "stdout",
     "output_type": "stream",
     "text": [
      "2853 6590\n"
     ]
    }
   ],
   "source": [
    "print (len(global_node_list),len(global_node_list_raw))"
   ]
  },
  {
   "cell_type": "code",
   "execution_count": 400,
   "metadata": {},
   "outputs": [],
   "source": [
    "import Queue\n",
    "def get_bfs_list(input_node_list):\n",
    "    bfs_q = Queue.Queue()\n",
    "    bfs_list = []\n",
    "    bfs_q.put(0)\n",
    "    while not bfs_q.empty():\n",
    "        ind = bfs_q.get()\n",
    "        curr_node = input_node_list[ind]\n",
    "        bfs_list.append(ind)\n",
    "        for key in curr_node.child_list.keys():\n",
    "            if not curr_node.child_list[key].is_leaf == 1:\n",
    "                bfs_q.put(curr_node.child_list[key].index_in_list)\n",
    "    return bfs_list\n",
    "bfs_list = get_bfs_list(global_node_list)\n",
    "bfs_list_raw = get_bfs_list(global_node_list_raw)"
   ]
  },
  {
   "cell_type": "code",
   "execution_count": 401,
   "metadata": {},
   "outputs": [],
   "source": [
    "def accuracy_recur(pos_list,neg_list,node,benef_list,raw):\n",
    "    if node.is_leaf == 1:\n",
    "        return\n",
    "    own_label = node.label\n",
    "#     print (node.index_in_list)\n",
    "    without_node = (1-own_label)*len(pos_list) + (own_label) * len(neg_list)\n",
    "    divide_on = node.attr\n",
    "    attr_map = {}\n",
    "    with_node = 0\n",
    "    for i in range(len(pos_list)):\n",
    "        if raw and (divide_on in cont_attribute):\n",
    "            attr_val = pos_list[i][divide_on] >= node.thresh\n",
    "        else:\n",
    "            attr_val = pos_list[i][divide_on]\n",
    "        if attr_val in attr_map:\n",
    "            attr_map[attr_val][0].append(pos_list[i])\n",
    "        else:\n",
    "            attr_map[attr_val] = [[pos_list[i]],[]]\n",
    "    for i in range(len(neg_list)):\n",
    "        if raw and (divide_on in cont_attribute):\n",
    "            attr_val =  neg_list[i][divide_on] >= node.thresh\n",
    "        else:\n",
    "            attr_val =  neg_list[i][divide_on]\n",
    "        if attr_val in attr_map:\n",
    "            attr_map[attr_val][1].append(neg_list[i])\n",
    "        else:\n",
    "            attr_map[attr_val] = [[],[neg_list[i]]]\n",
    "    for key in attr_map.keys():\n",
    "        if key in node.child_list:\n",
    "            child_label = node.child_list[key].label\n",
    "            with_node += ((child_label)*len(attr_map[key][1]) + (1-child_label)*len(attr_map[key][0]))       \n",
    "            accuracy_recur(attr_map[key][0],attr_map[key][1],node.child_list[key],benef_list,raw)\n",
    "        else:\n",
    "            own_label = node.label\n",
    "            with_node += ((own_label)*len(attr_map[key][1]) + (1-own_label)*len(attr_map[key][0])) \n",
    "    benef_list[node.index_in_list] = (without_node) - with_node"
   ]
  },
  {
   "cell_type": "code",
   "execution_count": 402,
   "metadata": {},
   "outputs": [],
   "source": [
    "def mis_accuracy(data,raw):\n",
    "    if raw:\n",
    "        num_nodes = len(global_node_list_raw)\n",
    "    else:\n",
    "        num_nodes = len(global_node_list)\n",
    "    benef_list = []\n",
    "    for i in range(num_nodes):\n",
    "        benef_list.append(0)\n",
    "    pos_list = []\n",
    "    neg_list = []\n",
    "    for i in range(len(data)):\n",
    "        if data[i][0] == 1:\n",
    "            pos_list.append(data[i])\n",
    "        else:\n",
    "            neg_list.append(data[i])\n",
    "    if raw:\n",
    "        accuracy_recur(pos_list,neg_list,tree_root_raw,benef_list,raw)\n",
    "    else:\n",
    "        accuracy_recur(pos_list,neg_list,tree_root,benef_list,raw)\n",
    "    final_list = []\n",
    "    own_label = tree_root.label\n",
    "    curr_missclassified = (1-own_label)*len(pos_list) + (own_label) * len(neg_list)\n",
    "    final_list.append(curr_missclassified)\n",
    "    if raw:\n",
    "        lis = bfs_list_raw\n",
    "    else:\n",
    "        lis = bfs_list\n",
    "    for i in range(len(lis)):\n",
    "        ind = lis[i]\n",
    "        change = benef_list[ind]\n",
    "        final_list.append(curr_missclassified-change)\n",
    "        curr_missclassified -= change\n",
    "    return final_list"
   ]
  },
  {
   "cell_type": "code",
   "execution_count": 403,
   "metadata": {},
   "outputs": [],
   "source": [
    "def accuracy(data,raw):\n",
    "    miss = mis_accuracy(data,raw)\n",
    "    accur = []\n",
    "    for i in range(len(miss)):\n",
    "        accur.append((len(data) - miss[i])/(1.0 * len(data)))\n",
    "    return accur"
   ]
  },
  {
   "cell_type": "code",
   "execution_count": 404,
   "metadata": {},
   "outputs": [],
   "source": [
    "train_accur = accuracy(train_data,0)\n",
    "valid_accur = accuracy(valid_data,0)\n",
    "test_accur = accuracy(test_data,0)"
   ]
  },
  {
   "cell_type": "code",
   "execution_count": 405,
   "metadata": {},
   "outputs": [
    {
     "data": {
      "image/png": "[encoded data removed]",
      "text/plain": [
       "<matplotlib.figure.Figure at 0x7f9d3c040f50>"
      ]
     },
     "metadata": {},
     "output_type": "display_data"
    }
   ],
   "source": [
    "import matplotlib.pyplot as plt\n",
    "plt.plot(train_accur,'r',label=\"Training\")\n",
    "plt.plot(valid_accur,'b',label=\"Validation\")\n",
    "plt.plot(test_accur,'g',label=\"Test\")\n",
    "plt.legend()\n",
    "plt.title('all accuracies without pruning')\n",
    "plt.xlabel(\"Number of Nodes\")\n",
    "plt.ylabel(\"Accuracies\")\n",
    "plt.savefig(\"../output/accuracy_basic.jpeg\")"
   ]
  },
  {
   "cell_type": "code",
   "execution_count": 406,
   "metadata": {},
   "outputs": [],
   "source": [
    "train_accur_raw = accuracy(train_data_raw,1)\n",
    "valid_accur_raw = accuracy(valid_data_raw,1)\n",
    "test_accur_raw = accuracy(test_data_raw,1)\n"
   ]
  },
  {
   "cell_type": "code",
   "execution_count": 407,
   "metadata": {},
   "outputs": [
    {
     "data": {
      "image/png": "[encoded data removed]",
      "text/plain": [
       "<matplotlib.figure.Figure at 0x7f9d3c040b90>"
      ]
     },
     "metadata": {},
     "output_type": "display_data"
    }
   ],
   "source": [
    "import matplotlib.pyplot as plt\n",
    "plt.plot(train_accur_raw,'r',label=\"Training\")\n",
    "plt.plot(valid_accur_raw,'b',label=\"Validation\")\n",
    "plt.plot(test_accur_raw,'g',label=\"Test\")\n",
    "plt.legend()\n",
    "plt.title('all accuracies without pruning and with threshold')\n",
    "plt.xlabel(\"Number of Nodes\")\n",
    "plt.ylabel(\"Accuracies\")\n",
    "plt.savefig(\"../output/accuracy_basic_raw.jpeg\")"
   ]
  },
  {
   "cell_type": "code",
   "execution_count": 408,
   "metadata": {},
   "outputs": [],
   "source": [
    "def zero_subtree(node,benef_list):\n",
    "    benef_list[node.index_in_list] = 0\n",
    "    for key in node.child_list.keys():\n",
    "        if node.child_list[key].is_leaf == 0:\n",
    "            zero_subtree(node.child_list[key],benef_list)"
   ]
  },
  {
   "cell_type": "code",
   "execution_count": 409,
   "metadata": {},
   "outputs": [],
   "source": [
    "def prune_tree(data,raw):\n",
    "    if raw:\n",
    "        num_nodes = len(global_node_list_raw)\n",
    "    else:\n",
    "        num_nodes = len(global_node_list)\n",
    "    benef_list = []\n",
    "    for i in range(num_nodes):\n",
    "        benef_list.append(0)\n",
    "    pos_list = []\n",
    "    neg_list = []\n",
    "    for i in range(len(data)):\n",
    "        if data[i][0] == 1:\n",
    "            pos_list.append(data[i])\n",
    "        else:\n",
    "            neg_list.append(data[i])\n",
    "    if raw:\n",
    "        accuracy_recur(pos_list,neg_list,tree_root_raw,benef_list,raw)\n",
    "    else:\n",
    "        accuracy_recur(pos_list,neg_list,tree_root,benef_list,raw)\n",
    "    while True:\n",
    "        minind = -1\n",
    "        minn = 0\n",
    "        for i in range(len(benef_list)):\n",
    "            if benef_list[i] < minn :\n",
    "                minind = i\n",
    "                minn = benef_list[i]\n",
    "        if minind == -1:\n",
    "            break\n",
    "        if raw:\n",
    "            node = global_node_list_raw[minind]\n",
    "        else:\n",
    "            node = global_node_list[minind]\n",
    "        zero_subtree(node,benef_list)\n",
    "        node.is_leaf = 1\n",
    "        node.attr = None\n",
    "        node.child_list = None\n",
    "        "
   ]
  },
  {
   "cell_type": "code",
   "execution_count": 410,
   "metadata": {},
   "outputs": [],
   "source": [
    "prune_tree(valid_data,0)"
   ]
  },
  {
   "cell_type": "code",
   "execution_count": 411,
   "metadata": {},
   "outputs": [],
   "source": [
    "train_accur_prune = accuracy(train_data,0)\n",
    "valid_accur_prune = accuracy(valid_data,0)\n",
    "test_accur_prune = accuracy(test_data,0)"
   ]
  },
  {
   "cell_type": "code",
   "execution_count": 412,
   "metadata": {},
   "outputs": [
    {
     "data": {
      "image/png": "[encoded data removed]",
      "text/plain": [
       "<matplotlib.figure.Figure at 0x7f9d3bd40190>"
      ]
     },
     "metadata": {},
     "output_type": "display_data"
    }
   ],
   "source": [
    "import matplotlib.pyplot as plt\n",
    "plt.plot(train_accur_raw,'r',label=\"Training\")\n",
    "plt.plot(valid_accur_raw,'b',label=\"Validation\")\n",
    "plt.plot(test_accur_raw,'g',label=\"Test\")\n",
    "plt.legend()\n",
    "plt.title('all accuracies after pruning')\n",
    "plt.xlabel(\"Number of Nodes\")\n",
    "plt.ylabel(\"Accuracies\")\n",
    "plt.savefig(\"../output/accuracy_basic_prune.jpeg\")"
   ]
  },
  {
   "cell_type": "code",
   "execution_count": null,
   "metadata": {},
   "outputs": [],
   "source": []
  },
  {
   "cell_type": "code",
   "execution_count": null,
   "metadata": {},
   "outputs": [],
   "source": []
  }
 ],
 "metadata": {
  "kernelspec": {
   "display_name": "Python 2",
   "language": "python",
   "name": "python2"
  },
  "language_info": {
   "codemirror_mode": {
    "name": "ipython",
    "version": 2
   },
   "file_extension": ".py",
   "mimetype": "text/x-python",
   "name": "python",
   "nbconvert_exporter": "python",
   "pygments_lexer": "ipython2",
   "version": "2.7.12"
  }
 },
 "nbformat": 4,
 "nbformat_minor": 2
}
