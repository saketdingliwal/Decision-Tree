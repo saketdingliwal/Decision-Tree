{
 "cells": [
  {
   "cell_type": "code",
   "execution_count": 16,
   "metadata": {},
   "outputs": [],
   "source": [
    "from __future__ import print_function\n",
    "import time,sys,statistics,csv,math\n",
    "import numpy as np\n",
    "\n",
    "## The possible attributes in the data with the prediction at index 0. Smaller names for brevity.\n",
    "attributes = [\"rich\",\"age\",\"wc\",\"fnlwgt\",\"edu\",\"edun\",\"mar\",\"occ\",\"rel\",\"race\",\"sex\",\"capg\",\"canpl\",\"hpw\",\"nc\"]\n",
    "\n",
    "## Get the encoding of the csv file by replacing each categorical attribute value by its index.\n",
    "wc_l = \"Private, Self-emp-not-inc, Self-emp-inc, Federal-gov, Local-gov, State-gov, Without-pay, Never-worked\".split(\", \")\n",
    "edu_l = \"Bachelors, Some-college, 11th, HS-grad, Prof-school, Assoc-acdm, Assoc-voc, 9th, 7th-8th, 12th, Masters, 1st-4th, 10th, Doctorate, 5th-6th, Preschool\".split(\", \")\n",
    "mar_l = \"Married-civ-spouse, Divorced, Never-married, Separated, Widowed, Married-spouse-absent, Married-AF-spouse\".split(\", \")\n",
    "occ_l = \"Tech-support, Craft-repair, Other-service, Sales, Exec-managerial, Prof-specialty, Handlers-cleaners, Machine-op-inspct, Adm-clerical, Farming-fishing, Transport-moving, Priv-house-serv, Protective-serv, Armed-Forces\".split(\", \")\n",
    "rel_l = \"Wife, Own-child, Husband, Not-in-family, Other-relative, Unmarried\".split(\", \")\n",
    "race_l = \"White, Asian-Pac-Islander, Amer-Indian-Eskimo, Other, Black\".split(\", \")\n",
    "sex_l = \"Female, Male\".split(\", \")\n",
    "nc_l = \"United-States, Cambodia, England, Puerto-Rico, Canada, Germany, Outlying-US(Guam-USVI-etc), India, Japan, Greece, South, China, Cuba, Iran, Honduras, Philippines, Italy, Poland, Jamaica, Vietnam, Mexico, Portugal, Ireland, France, Dominican-Republic, Laos, Ecuador, Taiwan, Haiti, Columbia, Hungary, Guatemala, Nicaragua, Scotland, Thailand, Yugoslavia, El-Salvador, Trinadad&Tobago, Peru, Hong, Holand-Netherlands\".split(\", \")\n",
    "encode = {\n",
    "    \"rich\"   : {\"0\":0,\"1\":1},\n",
    "    \"wc\"     : {wc_l[i]:i for i in range(len(wc_l))},\n",
    "    \"edu\"    : {edu_l[i]:i for i in range(len(edu_l))},\n",
    "    \"mar\"    : {mar_l[i]:i for i in range(len(mar_l))},\n",
    "    \"occ\"    : {occ_l[i]:i for i in range(len(occ_l))},\n",
    "    \"rel\"    : {rel_l[i]:i for i in range(len(rel_l))},\n",
    "    \"race\"   : {race_l[i]:i for i in range(len(race_l))},\n",
    "    \"sex\"    : {sex_l[i]:i for i in range(len(sex_l))},\n",
    "    \"nc\"     : {nc_l[i]:i for i in range(len(nc_l))},\n",
    "    }\n",
    "\n",
    "def medians(file):\n",
    "    \"\"\"\n",
    "    Given a csv file, find the medians of the categorical attributes for the whole data.\n",
    "    params(1):\n",
    "        file : string : the name of the file\n",
    "    outputs(6):\n",
    "        median values for the categorical columns\n",
    "    \"\"\"\n",
    "    fin = open(file,\"r\")\n",
    "    reader = csv.reader(fin)\n",
    "    age, fnlwgt, edun, capg, capl, hpw = ([] for i in range(6))\n",
    "    total = 0\n",
    "    for row in reader:\n",
    "        total+=1\n",
    "        if(total==1):\n",
    "            continue\n",
    "        l = [x.lstrip().rstrip() for x in row]\n",
    "        age.append(int(l[0]));\n",
    "        fnlwgt.append(int(l[2]));\n",
    "        edun.append(int(l[4]));\n",
    "        capg.append(int(l[10]));\n",
    "        capl.append(int(l[11]));\n",
    "        hpw.append(int(l[12]));\n",
    "    fin.close()\n",
    "    return(statistics.median(age),statistics.median(fnlwgt),statistics.median(edun),statistics.median(capg),statistics.median(capl),statistics.median(hpw))\n",
    "\n",
    "def preprocess(file,median):\n",
    "    \"\"\"\n",
    "    Given a file, read its data by encoding categorical attributes and binarising continuos attributes based on median.\n",
    "    params(1):\n",
    "        file : string : the name of the file\n",
    "    outputs(6):\n",
    "        2D numpy array with the data\n",
    "    \"\"\"\n",
    "    # Calculate the medians\n",
    "    agem,fnlwgtm,edunm,capgm,caplm,hpwm = medians(file)\n",
    "    fin = open(file,\"r\")\n",
    "    reader = csv.reader(fin)\n",
    "    data = []\n",
    "    total = 0\n",
    "    for row in reader:\n",
    "        total+=1\n",
    "        # Skip line 0 in the file\n",
    "        if(total==1):\n",
    "            continue\n",
    "        l = [x.lstrip().rstrip() for x in row]\n",
    "        t = [0 for i in range(15)]\n",
    "\n",
    "        # Encode the categorical attributes\n",
    "        t[0] = encode[\"rich\"][l[-1]]; t[2] = encode[\"wc\"][l[1]]; t[4] = encode[\"edu\"][l[3]]\n",
    "        t[6] = encode[\"mar\"][l[5]]; t[7] = encode[\"occ\"][l[6]]; t[8] = encode[\"rel\"][l[7]]\n",
    "        t[9] = encode[\"race\"][l[8]]; t[10] = encode[\"sex\"][l[9]]; t[14] = encode[\"nc\"][l[13]]\n",
    "\n",
    "        # Binarize the numerical attributes based on median.\n",
    "        # Modify this section to read the file in part c where you split the continuos attributes baed on dynamic median values.\n",
    "        if median:\n",
    "            t[1] = float(l[0])>=agem; t[3] = float(l[2])>=fnlwgtm; t[5] = float(l[4])>=edunm;\n",
    "            t[11] = float(l[10])>=capgm; t[12] = float(l[11])>=caplm; t[13] = float(l[12])>=hpwm;\n",
    "        else:\n",
    "            t[1] = float(l[0]); t[3] = float(l[2]); t[5] = float(l[4]);\n",
    "            t[11] = float(l[10]); t[12] = float(l[11]); t[13] = float(l[12]);\n",
    "        # Convert some of the booleans to ints\n",
    "        data.append([int(x) for x in t])\n",
    "\n",
    "    return np.array(data,dtype=np.int64)"
   ]
  },
  {
   "cell_type": "code",
   "execution_count": 17,
   "metadata": {},
   "outputs": [
    {
     "name": "stdout",
     "output_type": "stream",
     "text": [
      "The sizes are  Train: 27000 , Validation: 3000 , Test: 7000\n"
     ]
    }
   ],
   "source": [
    "## Read the data\n",
    "train_data = preprocess(\"../dataset/train.csv\",1)\n",
    "valid_data = preprocess(\"../dataset/valid.csv\",1)\n",
    "test_data = preprocess(\"../dataset/test.csv\",1)\n",
    "train_data_raw = preprocess(\"../dataset/train.csv\",0)\n",
    "valid_data_raw = preprocess(\"../dataset/valid.csv\",0)\n",
    "test_data_raw = preprocess(\"../dataset/test.csv\",0)\n",
    "\n",
    "print(\"The sizes are \",\"Train:\",len(train_data),\", Validation:\",len(valid_data),\", Test:\",len(test_data))"
   ]
  },
  {
   "cell_type": "code",
   "execution_count": 53,
   "metadata": {},
   "outputs": [],
   "source": [
    "cont_attribute = [1,3,5,11,12,13]"
   ]
  },
  {
   "cell_type": "code",
   "execution_count": 54,
   "metadata": {},
   "outputs": [],
   "source": [
    "class Tree:\n",
    "    def __init__(self):\n",
    "        attr = None\n",
    "        label =None\n",
    "        child_list = None\n",
    "        thresh = None\n",
    "        is_leaf =None\n",
    "        aux_val = None\n",
    "        index = None"
   ]
  },
  {
   "cell_type": "code",
   "execution_count": 55,
   "metadata": {},
   "outputs": [],
   "source": [
    "def i_gain(pos_val,neg_val):\n",
    "    total = pos_val + neg_val\n",
    "    if pos_val==0:\n",
    "        return 0\n",
    "    if neg_val==0:\n",
    "        return 0\n",
    "    i_gain_val =  -1 * ((1.0 * pos_val)/total) * math.log((1.0 * pos_val)/total) - ((1.0 * neg_val)/total)*math.log((1.0*neg_val)/total)\n",
    "    return i_gain_val"
   ]
  },
  {
   "cell_type": "code",
   "execution_count": 56,
   "metadata": {},
   "outputs": [],
   "source": [
    "def median_data(pos_list,neg_list,attribute):\n",
    "    attr_data = []\n",
    "    for i in range(len(pos_list)):\n",
    "        ind = pos_list[i]\n",
    "        attr_value = train_data_raw[ind][attribute]\n",
    "        attr_data.append(attr_value)\n",
    "    for i in range(len(neg_list)):\n",
    "        ind = neg_list[i]\n",
    "        attr_value = train_data_raw[ind][attribute]\n",
    "        attr_data.append(attr_value)\n",
    "    median_value = statistics.median(attr_data)\n",
    "    return median_value\n",
    "    "
   ]
  },
  {
   "cell_type": "code",
   "execution_count": 57,
   "metadata": {},
   "outputs": [],
   "source": [
    "def information_gain(pos_list,neg_list,attribute,raw):\n",
    "    attr_map = {}\n",
    "    total_examples = len(pos_list) + len(neg_list)\n",
    "    if attribute in cont_attribute:\n",
    "        median_value = median_data(pos_list,neg_list,attribute)\n",
    "    for i in range(len(pos_list)):\n",
    "        ind = pos_list[i]\n",
    "        if (raw)  and (attribute in cont_attribute):\n",
    "            attr_value = train_data_raw[ind][attribute] >= median_value\n",
    "        else:\n",
    "            attr_value = train_data[ind][attribute]\n",
    "        if attr_value in attr_map:\n",
    "            attr_map[attr_value][0] +=1\n",
    "        else:\n",
    "            attr_map[attr_value] = [1,0]\n",
    "    for i in range(len(neg_list)):\n",
    "        ind = neg_list[i]\n",
    "        if (raw)  and (attribute in cont_attribute):\n",
    "            attr_value = train_data_raw[ind][attribute] >= median_value\n",
    "        else:\n",
    "            attr_value = train_data[ind][attribute]\n",
    "        if attr_value in attr_map:\n",
    "            attr_map[attr_value][1] +=1\n",
    "        else:\n",
    "            attr_map[attr_value] = [0,1]\n",
    "    i_gain_map = {}\n",
    "    for key in attr_map.keys():\n",
    "        pos_val = attr_map[key][0]\n",
    "        neg_val = attr_map[key][1]\n",
    "        if pos_val==0 or neg_val==0:\n",
    "            i_gain_map[key] = 0\n",
    "        else:\n",
    "            i_gain_map[key] = i_gain(pos_val,neg_val)\n",
    "    final_i_gain = 0.0\n",
    "    for key in attr_map.keys():\n",
    "        val_total = attr_map[key][0] + attr_map[key][1]\n",
    "        final_i_gain += ((val_total/(1.0 * total_examples)) * i_gain_map[key])\n",
    "    return final_i_gain"
   ]
  },
  {
   "cell_type": "code",
   "execution_count": 58,
   "metadata": {},
   "outputs": [],
   "source": [
    "def best_attr(pos_list,neg_list,raw):\n",
    "    minn = float(\"inf\")\n",
    "    ind = -1\n",
    "    for i in range(14):\n",
    "        inf_i = information_gain(pos_list,neg_list,i+1,raw)\n",
    "#         print (i,inf_i)\n",
    "        if inf_i < minn:\n",
    "            ind = i+1\n",
    "            minn = inf_i\n",
    "    return ind"
   ]
  },
  {
   "cell_type": "code",
   "execution_count": 59,
   "metadata": {},
   "outputs": [],
   "source": [
    "def make_tree(pos_list,neg_list,raw):\n",
    "    global counter\n",
    "#     if len(pos_list)==0:\n",
    "#         leaf_node = Tree()\n",
    "#         leaf_node.label = 0\n",
    "#         leaf_node.is_leaf = 1\n",
    "#         return leaf_node\n",
    "#     if len(neg_list)==0:\n",
    "#         leaf_node = Tree()\n",
    "#         leaf_node.label = 1\n",
    "#         leaf_node.is_leaf = 1\n",
    "#         return leaf_node\n",
    "    pos_ex = len(pos_list)\n",
    "    neg_ex = len(neg_list)\n",
    "    curr_i_gain = i_gain(pos_ex,neg_ex)\n",
    "    best_attribute = best_attr(pos_list,neg_list,raw)\n",
    "    new_best_gain = information_gain(pos_list,neg_list,best_attribute,raw)\n",
    "    new_node = Tree()\n",
    "    if pos_ex > neg_ex :\n",
    "        new_node.label = 1\n",
    "    else:\n",
    "        new_node.label = 0\n",
    "    if curr_i_gain == new_best_gain:\n",
    "        new_node.is_leaf = 1\n",
    "        return new_node\n",
    "    attr_map = {}\n",
    "    new_node.index = counter\n",
    "    counter +=1\n",
    "    new_node.attr = best_attribute\n",
    "    if raw and (best_attribute in cont_attribute):\n",
    "        median_value = median_data(pos_list,neg_list,best_attribute)\n",
    "        new_node.thresh = median_value\n",
    "    new_node.child_list = {}\n",
    "    new_node.is_leaf=0\n",
    "    for i in range(len(pos_list)):\n",
    "        ind = pos_list[i]\n",
    "        if (raw)  and (best_attribute in cont_attribute):\n",
    "            attr_value = train_data_raw[ind][best_attribute] >= median_value\n",
    "        else:\n",
    "            attr_value = train_data[ind][best_attribute]\n",
    "        if attr_value in attr_map:\n",
    "            attr_map[attr_value][0].append(ind)\n",
    "        else:\n",
    "            attr_map[attr_value] = [[ind],[]]\n",
    "    for i in range(len(neg_list)):\n",
    "        ind = neg_list[i]\n",
    "        if (raw)  and (best_attribute in cont_attribute):\n",
    "            attr_value = train_data_raw[ind][best_attribute] >= median_value\n",
    "        else:\n",
    "            attr_value = train_data[ind][best_attribute]\n",
    "        if attr_value in attr_map:\n",
    "            attr_map[attr_value][1].append(ind)\n",
    "        else:\n",
    "            attr_map[attr_value] = [[],[ind]]\n",
    "#     print (best_attribute)\n",
    "#     for key in attr_map.keys():\n",
    "#         print (key,len(attr_map[key][0]),len(attr_map[key][1]))\n",
    "#     print ()\n",
    "    for key in attr_map.keys():\n",
    "        new_node.child_list[key] = (make_tree(attr_map[key][0],attr_map[key][1],raw))\n",
    "    return new_node\n",
    "    "
   ]
  },
  {
   "cell_type": "code",
   "execution_count": 60,
   "metadata": {
    "scrolled": true
   },
   "outputs": [],
   "source": [
    "base_pos = []\n",
    "base_neg = []\n",
    "for i in range(len(train_data)):\n",
    "    if train_data[i][0] == 1:\n",
    "        base_pos.append(i)\n",
    "    else:\n",
    "        base_neg.append(i)\n",
    "counter = 0\n",
    "tree_root = make_tree(base_pos,base_neg,0)\n",
    "counter = 0\n",
    "tree_root_raw = make_tree(base_pos,base_neg,1)"
   ]
  },
  {
   "cell_type": "code",
   "execution_count": null,
   "metadata": {},
   "outputs": [],
   "source": []
  },
  {
   "cell_type": "code",
   "execution_count": 61,
   "metadata": {},
   "outputs": [],
   "source": [
    "import Queue\n",
    "def get_bfs_list(root):\n",
    "    bfs_q = Queue.Queue()\n",
    "    bfs_list = []\n",
    "    bfs_q.put(root)\n",
    "    while not bfs_q.empty():\n",
    "        curr_node = bfs_q.get()\n",
    "        bfs_list.append(curr_node)\n",
    "        for key in curr_node.child_list.keys():\n",
    "            if not curr_node.child_list[key].is_leaf == 1:\n",
    "                bfs_q.put(curr_node.child_list[key])\n",
    "    return bfs_list\n",
    "bfs_list = get_bfs_list(tree_root)\n",
    "bfs_list_raw = get_bfs_list(tree_root_raw)"
   ]
  },
  {
   "cell_type": "code",
   "execution_count": 62,
   "metadata": {},
   "outputs": [
    {
     "name": "stdout",
     "output_type": "stream",
     "text": [
      "2853 6590\n"
     ]
    }
   ],
   "source": [
    "print (len(bfs_list),len(bfs_list_raw))"
   ]
  },
  {
   "cell_type": "code",
   "execution_count": 63,
   "metadata": {},
   "outputs": [],
   "source": [
    "def accuracy_recur(pos_list,neg_list,node,raw):\n",
    "    if node.is_leaf == 1:\n",
    "        return\n",
    "    own_label = node.label\n",
    "    without_node = (1-own_label)*len(pos_list) + (own_label) * len(neg_list)\n",
    "    divide_on = node.attr\n",
    "    attr_map = {}\n",
    "    with_node = 0\n",
    "    for i in range(len(pos_list)):\n",
    "        if raw and (divide_on in cont_attribute):\n",
    "            attr_val = pos_list[i][divide_on] >= node.thresh\n",
    "        else:\n",
    "            attr_val = pos_list[i][divide_on]\n",
    "        if attr_val in attr_map:\n",
    "            attr_map[attr_val][0].append(pos_list[i])\n",
    "        else:\n",
    "            attr_map[attr_val] = [[pos_list[i]],[]]\n",
    "    for i in range(len(neg_list)):\n",
    "        if raw and (divide_on in cont_attribute):\n",
    "            attr_val =  neg_list[i][divide_on] >= node.thresh\n",
    "        else:\n",
    "            attr_val =  neg_list[i][divide_on]\n",
    "        if attr_val in attr_map:\n",
    "            attr_map[attr_val][1].append(neg_list[i])\n",
    "        else:\n",
    "            attr_map[attr_val] = [[],[neg_list[i]]]\n",
    "    for key in attr_map.keys():\n",
    "        if key in node.child_list:\n",
    "            child_label = node.child_list[key].label\n",
    "            with_node += ((child_label)*len(attr_map[key][1]) + (1-child_label)*len(attr_map[key][0]))       \n",
    "            accuracy_recur(attr_map[key][0],attr_map[key][1],node.child_list[key],raw)\n",
    "        else:\n",
    "            own_label = node.label\n",
    "            with_node += ((own_label)*len(attr_map[key][1]) + (1-own_label)*len(attr_map[key][0])) \n",
    "    node.aux_val = (without_node) - with_node"
   ]
  },
  {
   "cell_type": "code",
   "execution_count": 64,
   "metadata": {},
   "outputs": [],
   "source": [
    "def mis_accuracy(data,root,raw):\n",
    "    nodes_list = get_bfs_list(root)\n",
    "    num_nodes = len(nodes_list)\n",
    "    for i in range(num_nodes):\n",
    "        nodes_list[i].aux_val = 0\n",
    "    pos_list = []\n",
    "    neg_list = []\n",
    "    for i in range(len(data)):\n",
    "        if data[i][0] == 1:\n",
    "            pos_list.append(data[i])\n",
    "        else:\n",
    "            neg_list.append(data[i])\n",
    "    accuracy_recur(pos_list,neg_list,root,raw)\n",
    "    final_list = []\n",
    "    own_label = tree_root.label\n",
    "    curr_missclassified = (1-own_label)*len(pos_list) + (own_label) * len(neg_list)\n",
    "    final_list.append(curr_missclassified)\n",
    "    for i in range(len(nodes_list)):\n",
    "        node = nodes_list[i]\n",
    "        change = node.aux_val\n",
    "#         print (change)\n",
    "        final_list.append(curr_missclassified-change)\n",
    "        curr_missclassified -= change\n",
    "    return final_list"
   ]
  },
  {
   "cell_type": "code",
   "execution_count": 65,
   "metadata": {},
   "outputs": [],
   "source": [
    "def accuracy(data,root,raw):\n",
    "    miss = mis_accuracy(data,root,raw)\n",
    "    accur = []\n",
    "    for i in range(len(miss)):\n",
    "        accur.append((len(data) - miss[i])/(1.0 * len(data)))\n",
    "    return accur"
   ]
  },
  {
   "cell_type": "code",
   "execution_count": 66,
   "metadata": {},
   "outputs": [],
   "source": [
    "train_accur = accuracy(train_data,tree_root,0)\n",
    "valid_accur = accuracy(valid_data,tree_root,0)\n",
    "test_accur = accuracy(test_data,tree_root,0)"
   ]
  },
  {
   "cell_type": "code",
   "execution_count": 72,
   "metadata": {},
   "outputs": [
    {
     "data": {
      "image/png": "[encoded data removed]",
      "text/plain": [
       "<matplotlib.figure.Figure at 0x7f730e965710>"
      ]
     },
     "metadata": {},
     "output_type": "display_data"
    }
   ],
   "source": [
    "import matplotlib.pyplot as plt\n",
    "plt.plot(train_accur,'r',label=\"Training\")\n",
    "plt.plot(valid_accur,'b',label=\"Validation\")\n",
    "plt.plot(test_accur,'g',label=\"Test\")\n",
    "plt.legend()\n",
    "plt.title('all accuracies without pruning')\n",
    "plt.xlabel(\"Number of Nodes\")\n",
    "plt.ylabel(\"Accuracies\")\n",
    "plt.savefig(\"../output/accuracy_basic.jpeg\")"
   ]
  },
  {
   "cell_type": "code",
   "execution_count": 71,
   "metadata": {},
   "outputs": [
    {
     "name": "stdout",
     "output_type": "stream",
     "text": [
      "training accuracy 0.889333333333\n",
      "validation accuracy 0.799333333333\n",
      "test accuracy 0.806714285714\n"
     ]
    }
   ],
   "source": [
    "nuberr = len(train_accur) - 1\n",
    "print (\"training accuracy\",train_accur[nuberr])\n",
    "print (\"validation accuracy\",valid_accur[nuberr])\n",
    "print (\"test accuracy\",test_accur[nuberr])"
   ]
  },
  {
   "cell_type": "code",
   "execution_count": 80,
   "metadata": {},
   "outputs": [],
   "source": [
    "train_accur_raw = accuracy(train_data_raw,tree_root_raw,1)\n",
    "valid_accur_raw = accuracy(valid_data_raw,tree_root_raw,1)\n",
    "test_accur_raw = accuracy(test_data_raw,tree_root_raw,1)"
   ]
  },
  {
   "cell_type": "code",
   "execution_count": 82,
   "metadata": {},
   "outputs": [
    {
     "name": "stdout",
     "output_type": "stream",
     "text": [
      "training accuracy 0.988296296296\n",
      "validation accuracy 0.791666666667\n",
      "test accuracy 0.780714285714\n"
     ]
    }
   ],
   "source": [
    "nuberr = len(train_accur_raw) - 1\n",
    "print (\"training accuracy\",train_accur_raw[nuberr])\n",
    "print (\"validation accuracy\",valid_accur_raw[nuberr])\n",
    "print (\"test accuracy\",test_accur_raw[nuberr])"
   ]
  },
  {
   "cell_type": "code",
   "execution_count": 19,
   "metadata": {},
   "outputs": [
    {
     "data": {
      "image/png": "[encoded data removed]",
      "text/plain": [
       "<matplotlib.figure.Figure at 0x7f983741b290>"
      ]
     },
     "metadata": {},
     "output_type": "display_data"
    }
   ],
   "source": [
    "import matplotlib.pyplot as plt\n",
    "plt.plot(train_accur_raw,'r',label=\"Training\")\n",
    "plt.plot(valid_accur_raw,'b',label=\"Validation\")\n",
    "plt.plot(test_accur_raw,'g',label=\"Test\")\n",
    "plt.legend()\n",
    "plt.title('all accuracies without pruning and with threshold')\n",
    "plt.xlabel(\"Number of Nodes\")\n",
    "plt.ylabel(\"Accuracies\")\n",
    "plt.savefig(\"../output/accuracy_basic_raw.jpeg\")"
   ]
  },
  {
   "cell_type": "code",
   "execution_count": 73,
   "metadata": {},
   "outputs": [],
   "source": [
    "def recur_sum(node,lis):\n",
    "    count = node.aux_val\n",
    "    for key in node.child_list.keys():\n",
    "        if node.child_list[key].is_leaf==0:\n",
    "            count += recur_sum(node.child_list[key],lis)\n",
    "    lis.append((node,count))\n",
    "    return count\n",
    "\n",
    "\n",
    "def summ(benef_list,raw):\n",
    "    sum_benef_list = []\n",
    "    for i in range(len(benef_list)):\n",
    "        sum_benef_list.append(0)\n",
    "    if raw:\n",
    "        recur_sum(tree_root_raw,benef_list,sum_benef_list)\n",
    "    else:\n",
    "        recur_sum(tree_root,benef_list,sum_benef_list)\n",
    "    return sum_benef_list\n",
    "def node_count(node):\n",
    "    count = 1\n",
    "    for key in node.child_list.keys():\n",
    "        if node.child_list[key].is_leaf==0:\n",
    "            count += node_count(node.child_list[key])\n",
    "    return count"
   ]
  },
  {
   "cell_type": "code",
   "execution_count": 74,
   "metadata": {},
   "outputs": [],
   "source": [
    "counter = 0\n",
    "tree_root = make_tree(base_pos,base_neg,0)"
   ]
  },
  {
   "cell_type": "code",
   "execution_count": 75,
   "metadata": {},
   "outputs": [],
   "source": [
    "def prune_tree(root):\n",
    "    global lis\n",
    "    node_count = []\n",
    "    valid_prune = []\n",
    "    train_prune = []\n",
    "    test_prune = []\n",
    "    while True:\n",
    "        train_accur = accuracy(train_data,root,0)\n",
    "        test_accur = accuracy(test_data,root,0)\n",
    "        valid_accur = accuracy(valid_data,root,0)\n",
    "        num_nodes = len(train_accur)\n",
    "        node_count.append(num_nodes)\n",
    "        train_prune.append(train_accur[num_nodes-1])\n",
    "        valid_prune.append(valid_accur[num_nodes-1])\n",
    "        test_prune.append(test_accur[num_nodes-1])\n",
    "        minn = 0\n",
    "        min_node = None\n",
    "        lis = []\n",
    "        recur_sum(root,lis)\n",
    "        for i in range(len(lis)):\n",
    "            (node,count) = lis[i]\n",
    "            if count <= minn:\n",
    "                minn = count\n",
    "                min_node = node\n",
    "        if min_node==None:\n",
    "            return (node_count,train_prune,valid_prune,test_prune)            \n",
    "        else:\n",
    "            min_node.is_leaf = 1\n",
    "            min_node.child_list = None    "
   ]
  },
  {
   "cell_type": "code",
   "execution_count": 76,
   "metadata": {},
   "outputs": [],
   "source": [
    "node_count,train_prune,valid_prune,test_prune = prune_tree(tree_root)"
   ]
  },
  {
   "cell_type": "code",
   "execution_count": 77,
   "metadata": {},
   "outputs": [
    {
     "data": {
      "text/plain": [
       "([110], [0.8368518518518518], [0.8346666666666667], [0.8281428571428572])"
      ]
     },
     "execution_count": 77,
     "metadata": {},
     "output_type": "execute_result"
    }
   ],
   "source": [
    "prune_tree(tree_root)"
   ]
  },
  {
   "cell_type": "code",
   "execution_count": 78,
   "metadata": {},
   "outputs": [
    {
     "data": {
      "image/png": "[encoded data removed]",
      "text/plain": [
       "<matplotlib.figure.Figure at 0x7f730e9654d0>"
      ]
     },
     "metadata": {},
     "output_type": "display_data"
    }
   ],
   "source": [
    "plt.plot(node_count,train_prune,'r',label=\"Training\")\n",
    "plt.plot(node_count,valid_prune,'b',label=\"Validation\")\n",
    "plt.plot(node_count,test_prune,'g',label=\"Test\")\n",
    "plt.xlim(node_count[0],node_count[109])\n",
    "plt.legend()\n",
    "plt.title('all accuracies with pruning')\n",
    "plt.xlabel(\"Number of Nodes\")\n",
    "plt.ylabel(\"Accuracies\")\n",
    "plt.savefig(\"../output/accuracy_basic_prune_new.jpeg\")"
   ]
  },
  {
   "cell_type": "code",
   "execution_count": 16,
   "metadata": {},
   "outputs": [],
   "source": [
    "def splits(node,attribute):\n",
    "    atr = node.attr\n",
    "    maxx = 0\n",
    "    max_lis = []\n",
    "    for key in node.child_list.keys():\n",
    "        if node.child_list[key].is_leaf==0:\n",
    "            chil_lis = splits(node.child_list[key],attribute)\n",
    "            if len(chil_lis) > maxx:\n",
    "                maxx = len(chil_lis)\n",
    "                max_lis = chil_lis\n",
    "    if atr == attribute:\n",
    "        max_lis = [node.thresh] + max_lis\n",
    "    return max_lis"
   ]
  },
  {
   "cell_type": "code",
   "execution_count": 17,
   "metadata": {},
   "outputs": [
    {
     "name": "stdout",
     "output_type": "stream",
     "text": [
      "1\n",
      "[39, 47, 51.0, 54.0, 57, 60, 65.0, 62.0]\n",
      "3\n",
      "[188965.5, 127768, 159244.0, 142914.0, 136824, 129172]\n",
      "5\n",
      "[]\n",
      "11\n",
      "[7688, 20051]\n",
      "12\n",
      "[1485]\n",
      "13\n",
      "[50, 57.5, 65, 70]\n"
     ]
    }
   ],
   "source": [
    "for attr in cont_attribute:\n",
    "    ans = splits(tree_root_raw,attr)\n",
    "    print (attr)\n",
    "    print (ans)"
   ]
  },
  {
   "cell_type": "code",
   "execution_count": 18,
   "metadata": {},
   "outputs": [],
   "source": [
    "def get_X_Y(data):\n",
    "    X_tr = np.transpose(data)\n",
    "    Y = X_tr[0]\n",
    "    X_tr = X_tr[1:]\n",
    "    X = np.transpose(X_tr)\n",
    "    return X,Y"
   ]
  },
  {
   "cell_type": "code",
   "execution_count": 19,
   "metadata": {},
   "outputs": [],
   "source": [
    "from sklearn.metrics import accuracy_score"
   ]
  },
  {
   "cell_type": "code",
   "execution_count": 25,
   "metadata": {},
   "outputs": [],
   "source": [
    "train_X,train_Y = get_X_Y(train_data_raw)\n",
    "valid_X,valid_Y = get_X_Y(valid_data_raw)\n",
    "test_X,test_Y = get_X_Y(test_data_raw)"
   ]
  },
  {
   "cell_type": "code",
   "execution_count": 47,
   "metadata": {},
   "outputs": [
    {
     "name": "stdout",
     "output_type": "stream",
     "text": [
      "n_estimator: 5 \tmax_features: 1 \tbootstrap: True \taccuracy : 0.8346666666666667\n",
      "n_estimator: 5 \tmax_features: 1 \tbootstrap: False \taccuracy : 0.832\n",
      "n_estimator: 5 \tmax_features: 2 \tbootstrap: True \taccuracy : 0.8333333333333334\n",
      "n_estimator: 5 \tmax_features: 2 \tbootstrap: False \taccuracy : 0.8273333333333334\n",
      "n_estimator: 5 \tmax_features: 4 \tbootstrap: True \taccuracy : 0.8386666666666667\n",
      "n_estimator: 5 \tmax_features: 4 \tbootstrap: False \taccuracy : 0.832\n",
      "n_estimator: 5 \tmax_features: 6 \tbootstrap: True \taccuracy : 0.8343333333333334\n",
      "n_estimator: 5 \tmax_features: 6 \tbootstrap: False \taccuracy : 0.8376666666666667\n",
      "n_estimator: 5 \tmax_features: 8 \tbootstrap: True \taccuracy : 0.8313333333333334\n",
      "n_estimator: 5 \tmax_features: 8 \tbootstrap: False \taccuracy : 0.82\n",
      "n_estimator: 10 \tmax_features: 1 \tbootstrap: True \taccuracy : 0.8333333333333334\n",
      "n_estimator: 10 \tmax_features: 1 \tbootstrap: False \taccuracy : 0.8336666666666667\n",
      "n_estimator: 10 \tmax_features: 2 \tbootstrap: True \taccuracy : 0.8406666666666667\n",
      "n_estimator: 10 \tmax_features: 2 \tbootstrap: False \taccuracy : 0.8436666666666667\n",
      "n_estimator: 10 \tmax_features: 4 \tbootstrap: True \taccuracy : 0.8553333333333333\n",
      "n_estimator: 10 \tmax_features: 4 \tbootstrap: False \taccuracy : 0.8426666666666667\n",
      "n_estimator: 10 \tmax_features: 6 \tbootstrap: True \taccuracy : 0.8486666666666667\n",
      "n_estimator: 10 \tmax_features: 6 \tbootstrap: False \taccuracy : 0.839\n",
      "n_estimator: 10 \tmax_features: 8 \tbootstrap: True \taccuracy : 0.845\n",
      "n_estimator: 10 \tmax_features: 8 \tbootstrap: False \taccuracy : 0.8386666666666667\n",
      "n_estimator: 15 \tmax_features: 1 \tbootstrap: True \taccuracy : 0.8466666666666667\n",
      "n_estimator: 15 \tmax_features: 1 \tbootstrap: False \taccuracy : 0.8393333333333334\n",
      "n_estimator: 15 \tmax_features: 2 \tbootstrap: True \taccuracy : 0.8396666666666667\n",
      "n_estimator: 15 \tmax_features: 2 \tbootstrap: False \taccuracy : 0.8403333333333334\n",
      "n_estimator: 15 \tmax_features: 4 \tbootstrap: True \taccuracy : 0.8436666666666667\n",
      "n_estimator: 15 \tmax_features: 4 \tbootstrap: False \taccuracy : 0.8463333333333334\n",
      "n_estimator: 15 \tmax_features: 6 \tbootstrap: True \taccuracy : 0.8433333333333334\n",
      "n_estimator: 15 \tmax_features: 6 \tbootstrap: False \taccuracy : 0.84\n",
      "n_estimator: 15 \tmax_features: 8 \tbootstrap: True \taccuracy : 0.841\n",
      "n_estimator: 15 \tmax_features: 8 \tbootstrap: False \taccuracy : 0.842\n",
      "n_estimator: 20 \tmax_features: 1 \tbootstrap: True \taccuracy : 0.8476666666666667\n",
      "n_estimator: 20 \tmax_features: 1 \tbootstrap: False \taccuracy : 0.8456666666666667\n",
      "n_estimator: 20 \tmax_features: 2 \tbootstrap: True \taccuracy : 0.846\n",
      "n_estimator: 20 \tmax_features: 2 \tbootstrap: False \taccuracy : 0.8426666666666667\n",
      "n_estimator: 20 \tmax_features: 4 \tbootstrap: True \taccuracy : 0.8483333333333334\n",
      "n_estimator: 20 \tmax_features: 4 \tbootstrap: False \taccuracy : 0.843\n",
      "n_estimator: 20 \tmax_features: 6 \tbootstrap: True \taccuracy : 0.8486666666666667\n",
      "n_estimator: 20 \tmax_features: 6 \tbootstrap: False \taccuracy : 0.8426666666666667\n",
      "n_estimator: 20 \tmax_features: 8 \tbootstrap: True \taccuracy : 0.8493333333333334\n",
      "n_estimator: 20 \tmax_features: 8 \tbootstrap: False \taccuracy : 0.8423333333333334\n",
      "n_estimator: 25 \tmax_features: 1 \tbootstrap: True \taccuracy : 0.8466666666666667\n",
      "n_estimator: 25 \tmax_features: 1 \tbootstrap: False \taccuracy : 0.8456666666666667\n",
      "n_estimator: 25 \tmax_features: 2 \tbootstrap: True \taccuracy : 0.8473333333333334\n",
      "n_estimator: 25 \tmax_features: 2 \tbootstrap: False \taccuracy : 0.8463333333333334\n",
      "n_estimator: 25 \tmax_features: 4 \tbootstrap: True \taccuracy : 0.85\n",
      "n_estimator: 25 \tmax_features: 4 \tbootstrap: False \taccuracy : 0.841\n",
      "n_estimator: 25 \tmax_features: 6 \tbootstrap: True \taccuracy : 0.848\n",
      "n_estimator: 25 \tmax_features: 6 \tbootstrap: False \taccuracy : 0.845\n",
      "n_estimator: 25 \tmax_features: 8 \tbootstrap: True \taccuracy : 0.8486666666666667\n",
      "n_estimator: 25 \tmax_features: 8 \tbootstrap: False \taccuracy : 0.8363333333333334\n"
     ]
    }
   ],
   "source": [
    "from sklearn.ensemble import RandomForestClassifier\n",
    "n_estim = [5,10,15,20,25]\n",
    "max_feat = [1,2,4,6,8]\n",
    "boots = [True,False]\n",
    "for est in n_estim:\n",
    "    for feat in max_feat:\n",
    "        for boot in boots:   \n",
    "            clf = RandomForestClassifier(n_estimators=est,max_features=feat,bootstrap=boot)\n",
    "            clf.fit(train_X, train_Y)\n",
    "            valid_out = clf.predict(valid_X)\n",
    "            acc = accuracy_score(valid_out,valid_Y)\n",
    "            print (\"n_estimator:\",est,\"\\tmax_features:\",feat,\"\\tbootstrap:\",boot,\"\\taccuracy :\",acc)"
   ]
  },
  {
   "cell_type": "code",
   "execution_count": 108,
   "metadata": {},
   "outputs": [
    {
     "name": "stdout",
     "output_type": "stream",
     "text": [
      "training accuracy : 0.9872222222222222\n",
      "validation accuracy : 0.8456666666666667\n",
      "test accuracy : 0.8461428571428572\n"
     ]
    }
   ],
   "source": [
    "from sklearn.ensemble import RandomForestClassifier\n",
    "clf = RandomForestClassifier(n_estimators=10,max_features=4,bootstrap=True)\n",
    "clf.fit(train_X, train_Y)\n",
    "train_out = clf.predict(train_X)\n",
    "valid_out = clf.predict(valid_X)\n",
    "test_out = clf.predict(test_X)\n",
    "print (\"training accuracy :\",accuracy_score(train_out,train_Y))\n",
    "print (\"validation accuracy :\",accuracy_score(valid_out,valid_Y))\n",
    "print (\"test accuracy :\",accuracy_score(test_out,test_Y))"
   ]
  },
  {
   "cell_type": "code",
   "execution_count": 95,
   "metadata": {
    "scrolled": true
   },
   "outputs": [
    {
     "name": "stdout",
     "output_type": "stream",
     "text": [
      "min_samples_split: 10 \tmin_samples_leaf: 1 \tmax_depth: 5 \taccuracy : 0.833\n",
      "min_samples_split: 10 \tmin_samples_leaf: 1 \tmax_depth: 10 \taccuracy : 0.848\n",
      "min_samples_split: 10 \tmin_samples_leaf: 1 \tmax_depth: 20 \taccuracy : 0.8296666666666667\n",
      "min_samples_split: 10 \tmin_samples_leaf: 1 \tmax_depth: 40 \taccuracy : 0.8106666666666666\n",
      "min_samples_split: 10 \tmin_samples_leaf: 1 \tmax_depth: 80 \taccuracy : 0.8093333333333333\n",
      "min_samples_split: 10 \tmin_samples_leaf: 2 \tmax_depth: 5 \taccuracy : 0.833\n",
      "min_samples_split: 10 \tmin_samples_leaf: 2 \tmax_depth: 10 \taccuracy : 0.847\n",
      "min_samples_split: 10 \tmin_samples_leaf: 2 \tmax_depth: 20 \taccuracy : 0.832\n",
      "min_samples_split: 10 \tmin_samples_leaf: 2 \tmax_depth: 40 \taccuracy : 0.818\n",
      "min_samples_split: 10 \tmin_samples_leaf: 2 \tmax_depth: 80 \taccuracy : 0.8163333333333334\n",
      "min_samples_split: 10 \tmin_samples_leaf: 5 \tmax_depth: 5 \taccuracy : 0.8336666666666667\n",
      "min_samples_split: 10 \tmin_samples_leaf: 5 \tmax_depth: 10 \taccuracy : 0.851\n",
      "min_samples_split: 10 \tmin_samples_leaf: 5 \tmax_depth: 20 \taccuracy : 0.8413333333333334\n",
      "min_samples_split: 10 \tmin_samples_leaf: 5 \tmax_depth: 40 \taccuracy : 0.8283333333333334\n",
      "min_samples_split: 10 \tmin_samples_leaf: 5 \tmax_depth: 80 \taccuracy : 0.8316666666666667\n",
      "min_samples_split: 10 \tmin_samples_leaf: 10 \tmax_depth: 5 \taccuracy : 0.833\n",
      "min_samples_split: 10 \tmin_samples_leaf: 10 \tmax_depth: 10 \taccuracy : 0.8506666666666667\n",
      "min_samples_split: 10 \tmin_samples_leaf: 10 \tmax_depth: 20 \taccuracy : 0.8436666666666667\n",
      "min_samples_split: 10 \tmin_samples_leaf: 10 \tmax_depth: 40 \taccuracy : 0.8413333333333334\n",
      "min_samples_split: 10 \tmin_samples_leaf: 10 \tmax_depth: 80 \taccuracy : 0.8413333333333334\n",
      "min_samples_split: 10 \tmin_samples_leaf: 20 \tmax_depth: 5 \taccuracy : 0.833\n",
      "min_samples_split: 10 \tmin_samples_leaf: 20 \tmax_depth: 10 \taccuracy : 0.8506666666666667\n",
      "min_samples_split: 10 \tmin_samples_leaf: 20 \tmax_depth: 20 \taccuracy : 0.8486666666666667\n",
      "min_samples_split: 10 \tmin_samples_leaf: 20 \tmax_depth: 40 \taccuracy : 0.8453333333333334\n",
      "min_samples_split: 10 \tmin_samples_leaf: 20 \tmax_depth: 80 \taccuracy : 0.8466666666666667\n",
      "min_samples_split: 10 \tmin_samples_leaf: 80 \tmax_depth: 5 \taccuracy : 0.833\n",
      "min_samples_split: 10 \tmin_samples_leaf: 80 \tmax_depth: 10 \taccuracy : 0.8453333333333334\n",
      "min_samples_split: 10 \tmin_samples_leaf: 80 \tmax_depth: 20 \taccuracy : 0.8433333333333334\n",
      "min_samples_split: 10 \tmin_samples_leaf: 80 \tmax_depth: 40 \taccuracy : 0.8433333333333334\n",
      "min_samples_split: 10 \tmin_samples_leaf: 80 \tmax_depth: 80 \taccuracy : 0.8433333333333334\n",
      "min_samples_split: 20 \tmin_samples_leaf: 1 \tmax_depth: 5 \taccuracy : 0.8326666666666667\n",
      "min_samples_split: 20 \tmin_samples_leaf: 1 \tmax_depth: 10 \taccuracy : 0.8486666666666667\n",
      "min_samples_split: 20 \tmin_samples_leaf: 1 \tmax_depth: 20 \taccuracy : 0.8326666666666667\n",
      "min_samples_split: 20 \tmin_samples_leaf: 1 \tmax_depth: 40 \taccuracy : 0.8223333333333334\n",
      "min_samples_split: 20 \tmin_samples_leaf: 1 \tmax_depth: 80 \taccuracy : 0.823\n",
      "min_samples_split: 20 \tmin_samples_leaf: 2 \tmax_depth: 5 \taccuracy : 0.833\n",
      "min_samples_split: 20 \tmin_samples_leaf: 2 \tmax_depth: 10 \taccuracy : 0.848\n",
      "min_samples_split: 20 \tmin_samples_leaf: 2 \tmax_depth: 20 \taccuracy : 0.8353333333333334\n",
      "min_samples_split: 20 \tmin_samples_leaf: 2 \tmax_depth: 40 \taccuracy : 0.8283333333333334\n",
      "min_samples_split: 20 \tmin_samples_leaf: 2 \tmax_depth: 80 \taccuracy : 0.825\n",
      "min_samples_split: 20 \tmin_samples_leaf: 5 \tmax_depth: 5 \taccuracy : 0.833\n",
      "min_samples_split: 20 \tmin_samples_leaf: 5 \tmax_depth: 10 \taccuracy : 0.8513333333333334\n",
      "min_samples_split: 20 \tmin_samples_leaf: 5 \tmax_depth: 20 \taccuracy : 0.8396666666666667\n",
      "min_samples_split: 20 \tmin_samples_leaf: 5 \tmax_depth: 40 \taccuracy : 0.8326666666666667\n",
      "min_samples_split: 20 \tmin_samples_leaf: 5 \tmax_depth: 80 \taccuracy : 0.831\n",
      "min_samples_split: 20 \tmin_samples_leaf: 10 \tmax_depth: 5 \taccuracy : 0.833\n",
      "min_samples_split: 20 \tmin_samples_leaf: 10 \tmax_depth: 10 \taccuracy : 0.8513333333333334\n",
      "min_samples_split: 20 \tmin_samples_leaf: 10 \tmax_depth: 20 \taccuracy : 0.8436666666666667\n",
      "min_samples_split: 20 \tmin_samples_leaf: 10 \tmax_depth: 40 \taccuracy : 0.8393333333333334\n",
      "min_samples_split: 20 \tmin_samples_leaf: 10 \tmax_depth: 80 \taccuracy : 0.8426666666666667\n",
      "min_samples_split: 20 \tmin_samples_leaf: 20 \tmax_depth: 5 \taccuracy : 0.833\n",
      "min_samples_split: 20 \tmin_samples_leaf: 20 \tmax_depth: 10 \taccuracy : 0.8506666666666667\n",
      "min_samples_split: 20 \tmin_samples_leaf: 20 \tmax_depth: 20 \taccuracy : 0.8486666666666667\n",
      "min_samples_split: 20 \tmin_samples_leaf: 20 \tmax_depth: 40 \taccuracy : 0.8453333333333334\n",
      "min_samples_split: 20 \tmin_samples_leaf: 20 \tmax_depth: 80 \taccuracy : 0.8466666666666667\n",
      "min_samples_split: 20 \tmin_samples_leaf: 80 \tmax_depth: 5 \taccuracy : 0.833\n",
      "min_samples_split: 20 \tmin_samples_leaf: 80 \tmax_depth: 10 \taccuracy : 0.8453333333333334\n",
      "min_samples_split: 20 \tmin_samples_leaf: 80 \tmax_depth: 20 \taccuracy : 0.8433333333333334\n",
      "min_samples_split: 20 \tmin_samples_leaf: 80 \tmax_depth: 40 \taccuracy : 0.8433333333333334\n",
      "min_samples_split: 20 \tmin_samples_leaf: 80 \tmax_depth: 80 \taccuracy : 0.8433333333333334\n",
      "min_samples_split: 40 \tmin_samples_leaf: 1 \tmax_depth: 5 \taccuracy : 0.833\n",
      "min_samples_split: 40 \tmin_samples_leaf: 1 \tmax_depth: 10 \taccuracy : 0.85\n",
      "min_samples_split: 40 \tmin_samples_leaf: 1 \tmax_depth: 20 \taccuracy : 0.8403333333333334\n",
      "min_samples_split: 40 \tmin_samples_leaf: 1 \tmax_depth: 40 \taccuracy : 0.837\n",
      "min_samples_split: 40 \tmin_samples_leaf: 1 \tmax_depth: 80 \taccuracy : 0.8373333333333334\n",
      "min_samples_split: 40 \tmin_samples_leaf: 2 \tmax_depth: 5 \taccuracy : 0.833\n",
      "min_samples_split: 40 \tmin_samples_leaf: 2 \tmax_depth: 10 \taccuracy : 0.85\n",
      "min_samples_split: 40 \tmin_samples_leaf: 2 \tmax_depth: 20 \taccuracy : 0.845\n",
      "min_samples_split: 40 \tmin_samples_leaf: 2 \tmax_depth: 40 \taccuracy : 0.8426666666666667\n",
      "min_samples_split: 40 \tmin_samples_leaf: 2 \tmax_depth: 80 \taccuracy : 0.8423333333333334\n",
      "min_samples_split: 40 \tmin_samples_leaf: 5 \tmax_depth: 5 \taccuracy : 0.833\n",
      "min_samples_split: 40 \tmin_samples_leaf: 5 \tmax_depth: 10 \taccuracy : 0.8516666666666667\n",
      "min_samples_split: 40 \tmin_samples_leaf: 5 \tmax_depth: 20 \taccuracy : 0.8426666666666667\n",
      "min_samples_split: 40 \tmin_samples_leaf: 5 \tmax_depth: 40 \taccuracy : 0.8416666666666667\n",
      "min_samples_split: 40 \tmin_samples_leaf: 5 \tmax_depth: 80 \taccuracy : 0.841\n",
      "min_samples_split: 40 \tmin_samples_leaf: 10 \tmax_depth: 5 \taccuracy : 0.833\n",
      "min_samples_split: 40 \tmin_samples_leaf: 10 \tmax_depth: 10 \taccuracy : 0.8506666666666667\n",
      "min_samples_split: 40 \tmin_samples_leaf: 10 \tmax_depth: 20 \taccuracy : 0.8473333333333334\n",
      "min_samples_split: 40 \tmin_samples_leaf: 10 \tmax_depth: 40 \taccuracy : 0.8473333333333334\n",
      "min_samples_split: 40 \tmin_samples_leaf: 10 \tmax_depth: 80 \taccuracy : 0.8453333333333334\n",
      "min_samples_split: 40 \tmin_samples_leaf: 20 \tmax_depth: 5 \taccuracy : 0.833\n",
      "min_samples_split: 40 \tmin_samples_leaf: 20 \tmax_depth: 10 \taccuracy : 0.8506666666666667\n",
      "min_samples_split: 40 \tmin_samples_leaf: 20 \tmax_depth: 20 \taccuracy : 0.8486666666666667\n",
      "min_samples_split: 40 \tmin_samples_leaf: 20 \tmax_depth: 40 \taccuracy : 0.8466666666666667\n",
      "min_samples_split: 40 \tmin_samples_leaf: 20 \tmax_depth: 80 \taccuracy : 0.8453333333333334\n",
      "min_samples_split: 40 \tmin_samples_leaf: 80 \tmax_depth: 5 \taccuracy : 0.833\n",
      "min_samples_split: 40 \tmin_samples_leaf: 80 \tmax_depth: 10 \taccuracy : 0.8453333333333334\n",
      "min_samples_split: 40 \tmin_samples_leaf: 80 \tmax_depth: 20 \taccuracy : 0.8433333333333334\n",
      "min_samples_split: 40 \tmin_samples_leaf: 80 \tmax_depth: 40 \taccuracy : 0.8433333333333334\n",
      "min_samples_split: 40 \tmin_samples_leaf: 80 \tmax_depth: 80 \taccuracy : 0.8433333333333334\n",
      "min_samples_split: 80 \tmin_samples_leaf: 1 \tmax_depth: 5 \taccuracy : 0.833\n",
      "min_samples_split: 80 \tmin_samples_leaf: 1 \tmax_depth: 10 \taccuracy : 0.849\n",
      "min_samples_split: 80 \tmin_samples_leaf: 1 \tmax_depth: 20 \taccuracy : 0.846\n",
      "min_samples_split: 80 \tmin_samples_leaf: 1 \tmax_depth: 40 \taccuracy : 0.8423333333333334\n",
      "min_samples_split: 80 \tmin_samples_leaf: 1 \tmax_depth: 80 \taccuracy : 0.8423333333333334\n",
      "min_samples_split: 80 \tmin_samples_leaf: 2 \tmax_depth: 5 \taccuracy : 0.833\n",
      "min_samples_split: 80 \tmin_samples_leaf: 2 \tmax_depth: 10 \taccuracy : 0.8486666666666667\n"
     ]
    },
    {
     "name": "stdout",
     "output_type": "stream",
     "text": [
      "min_samples_split: 80 \tmin_samples_leaf: 2 \tmax_depth: 20 \taccuracy : 0.8466666666666667\n",
      "min_samples_split: 80 \tmin_samples_leaf: 2 \tmax_depth: 40 \taccuracy : 0.8436666666666667\n",
      "min_samples_split: 80 \tmin_samples_leaf: 2 \tmax_depth: 80 \taccuracy : 0.8436666666666667\n",
      "min_samples_split: 80 \tmin_samples_leaf: 5 \tmax_depth: 5 \taccuracy : 0.833\n",
      "min_samples_split: 80 \tmin_samples_leaf: 5 \tmax_depth: 10 \taccuracy : 0.8496666666666667\n",
      "min_samples_split: 80 \tmin_samples_leaf: 5 \tmax_depth: 20 \taccuracy : 0.8463333333333334\n",
      "min_samples_split: 80 \tmin_samples_leaf: 5 \tmax_depth: 40 \taccuracy : 0.8426666666666667\n",
      "min_samples_split: 80 \tmin_samples_leaf: 5 \tmax_depth: 80 \taccuracy : 0.8426666666666667\n",
      "min_samples_split: 80 \tmin_samples_leaf: 10 \tmax_depth: 5 \taccuracy : 0.833\n",
      "min_samples_split: 80 \tmin_samples_leaf: 10 \tmax_depth: 10 \taccuracy : 0.85\n",
      "min_samples_split: 80 \tmin_samples_leaf: 10 \tmax_depth: 20 \taccuracy : 0.846\n",
      "min_samples_split: 80 \tmin_samples_leaf: 10 \tmax_depth: 40 \taccuracy : 0.846\n",
      "min_samples_split: 80 \tmin_samples_leaf: 10 \tmax_depth: 80 \taccuracy : 0.846\n",
      "min_samples_split: 80 \tmin_samples_leaf: 20 \tmax_depth: 5 \taccuracy : 0.833\n",
      "min_samples_split: 80 \tmin_samples_leaf: 20 \tmax_depth: 10 \taccuracy : 0.85\n",
      "min_samples_split: 80 \tmin_samples_leaf: 20 \tmax_depth: 20 \taccuracy : 0.849\n",
      "min_samples_split: 80 \tmin_samples_leaf: 20 \tmax_depth: 40 \taccuracy : 0.848\n",
      "min_samples_split: 80 \tmin_samples_leaf: 20 \tmax_depth: 80 \taccuracy : 0.848\n",
      "min_samples_split: 80 \tmin_samples_leaf: 80 \tmax_depth: 5 \taccuracy : 0.833\n",
      "min_samples_split: 80 \tmin_samples_leaf: 80 \tmax_depth: 10 \taccuracy : 0.8453333333333334\n",
      "min_samples_split: 80 \tmin_samples_leaf: 80 \tmax_depth: 20 \taccuracy : 0.8433333333333334\n",
      "min_samples_split: 80 \tmin_samples_leaf: 80 \tmax_depth: 40 \taccuracy : 0.8433333333333334\n",
      "min_samples_split: 80 \tmin_samples_leaf: 80 \tmax_depth: 80 \taccuracy : 0.8433333333333334\n",
      "min_samples_split: 200 \tmin_samples_leaf: 1 \tmax_depth: 5 \taccuracy : 0.833\n",
      "min_samples_split: 200 \tmin_samples_leaf: 1 \tmax_depth: 10 \taccuracy : 0.85\n",
      "min_samples_split: 200 \tmin_samples_leaf: 1 \tmax_depth: 20 \taccuracy : 0.8526666666666667\n",
      "min_samples_split: 200 \tmin_samples_leaf: 1 \tmax_depth: 40 \taccuracy : 0.8503333333333334\n",
      "min_samples_split: 200 \tmin_samples_leaf: 1 \tmax_depth: 80 \taccuracy : 0.8503333333333334\n",
      "min_samples_split: 200 \tmin_samples_leaf: 2 \tmax_depth: 5 \taccuracy : 0.833\n",
      "min_samples_split: 200 \tmin_samples_leaf: 2 \tmax_depth: 10 \taccuracy : 0.85\n",
      "min_samples_split: 200 \tmin_samples_leaf: 2 \tmax_depth: 20 \taccuracy : 0.8526666666666667\n",
      "min_samples_split: 200 \tmin_samples_leaf: 2 \tmax_depth: 40 \taccuracy : 0.852\n",
      "min_samples_split: 200 \tmin_samples_leaf: 2 \tmax_depth: 80 \taccuracy : 0.852\n",
      "min_samples_split: 200 \tmin_samples_leaf: 5 \tmax_depth: 5 \taccuracy : 0.833\n",
      "min_samples_split: 200 \tmin_samples_leaf: 5 \tmax_depth: 10 \taccuracy : 0.85\n",
      "min_samples_split: 200 \tmin_samples_leaf: 5 \tmax_depth: 20 \taccuracy : 0.8526666666666667\n",
      "min_samples_split: 200 \tmin_samples_leaf: 5 \tmax_depth: 40 \taccuracy : 0.8516666666666667\n",
      "min_samples_split: 200 \tmin_samples_leaf: 5 \tmax_depth: 80 \taccuracy : 0.8516666666666667\n",
      "min_samples_split: 200 \tmin_samples_leaf: 10 \tmax_depth: 5 \taccuracy : 0.833\n",
      "min_samples_split: 200 \tmin_samples_leaf: 10 \tmax_depth: 10 \taccuracy : 0.85\n",
      "min_samples_split: 200 \tmin_samples_leaf: 10 \tmax_depth: 20 \taccuracy : 0.8493333333333334\n",
      "min_samples_split: 200 \tmin_samples_leaf: 10 \tmax_depth: 40 \taccuracy : 0.8496666666666667\n",
      "min_samples_split: 200 \tmin_samples_leaf: 10 \tmax_depth: 80 \taccuracy : 0.8496666666666667\n",
      "min_samples_split: 200 \tmin_samples_leaf: 20 \tmax_depth: 5 \taccuracy : 0.833\n",
      "min_samples_split: 200 \tmin_samples_leaf: 20 \tmax_depth: 10 \taccuracy : 0.8496666666666667\n",
      "min_samples_split: 200 \tmin_samples_leaf: 20 \tmax_depth: 20 \taccuracy : 0.8506666666666667\n",
      "min_samples_split: 200 \tmin_samples_leaf: 20 \tmax_depth: 40 \taccuracy : 0.8503333333333334\n",
      "min_samples_split: 200 \tmin_samples_leaf: 20 \tmax_depth: 80 \taccuracy : 0.8503333333333334\n",
      "min_samples_split: 200 \tmin_samples_leaf: 80 \tmax_depth: 5 \taccuracy : 0.833\n",
      "min_samples_split: 200 \tmin_samples_leaf: 80 \tmax_depth: 10 \taccuracy : 0.8453333333333334\n",
      "min_samples_split: 200 \tmin_samples_leaf: 80 \tmax_depth: 20 \taccuracy : 0.8463333333333334\n",
      "min_samples_split: 200 \tmin_samples_leaf: 80 \tmax_depth: 40 \taccuracy : 0.8463333333333334\n",
      "min_samples_split: 200 \tmin_samples_leaf: 80 \tmax_depth: 80 \taccuracy : 0.8463333333333334\n",
      "min_samples_split: 400 \tmin_samples_leaf: 1 \tmax_depth: 5 \taccuracy : 0.833\n",
      "min_samples_split: 400 \tmin_samples_leaf: 1 \tmax_depth: 10 \taccuracy : 0.848\n",
      "min_samples_split: 400 \tmin_samples_leaf: 1 \tmax_depth: 20 \taccuracy : 0.847\n",
      "min_samples_split: 400 \tmin_samples_leaf: 1 \tmax_depth: 40 \taccuracy : 0.847\n",
      "min_samples_split: 400 \tmin_samples_leaf: 1 \tmax_depth: 80 \taccuracy : 0.847\n",
      "min_samples_split: 400 \tmin_samples_leaf: 2 \tmax_depth: 5 \taccuracy : 0.833\n",
      "min_samples_split: 400 \tmin_samples_leaf: 2 \tmax_depth: 10 \taccuracy : 0.848\n",
      "min_samples_split: 400 \tmin_samples_leaf: 2 \tmax_depth: 20 \taccuracy : 0.847\n",
      "min_samples_split: 400 \tmin_samples_leaf: 2 \tmax_depth: 40 \taccuracy : 0.847\n",
      "min_samples_split: 400 \tmin_samples_leaf: 2 \tmax_depth: 80 \taccuracy : 0.847\n",
      "min_samples_split: 400 \tmin_samples_leaf: 5 \tmax_depth: 5 \taccuracy : 0.833\n",
      "min_samples_split: 400 \tmin_samples_leaf: 5 \tmax_depth: 10 \taccuracy : 0.848\n",
      "min_samples_split: 400 \tmin_samples_leaf: 5 \tmax_depth: 20 \taccuracy : 0.847\n",
      "min_samples_split: 400 \tmin_samples_leaf: 5 \tmax_depth: 40 \taccuracy : 0.847\n",
      "min_samples_split: 400 \tmin_samples_leaf: 5 \tmax_depth: 80 \taccuracy : 0.847\n",
      "min_samples_split: 400 \tmin_samples_leaf: 10 \tmax_depth: 5 \taccuracy : 0.833\n",
      "min_samples_split: 400 \tmin_samples_leaf: 10 \tmax_depth: 10 \taccuracy : 0.848\n",
      "min_samples_split: 400 \tmin_samples_leaf: 10 \tmax_depth: 20 \taccuracy : 0.846\n",
      "min_samples_split: 400 \tmin_samples_leaf: 10 \tmax_depth: 40 \taccuracy : 0.846\n",
      "min_samples_split: 400 \tmin_samples_leaf: 10 \tmax_depth: 80 \taccuracy : 0.846\n",
      "min_samples_split: 400 \tmin_samples_leaf: 20 \tmax_depth: 5 \taccuracy : 0.833\n",
      "min_samples_split: 400 \tmin_samples_leaf: 20 \tmax_depth: 10 \taccuracy : 0.8476666666666667\n",
      "min_samples_split: 400 \tmin_samples_leaf: 20 \tmax_depth: 20 \taccuracy : 0.8453333333333334\n",
      "min_samples_split: 400 \tmin_samples_leaf: 20 \tmax_depth: 40 \taccuracy : 0.8453333333333334\n",
      "min_samples_split: 400 \tmin_samples_leaf: 20 \tmax_depth: 80 \taccuracy : 0.8453333333333334\n",
      "min_samples_split: 400 \tmin_samples_leaf: 80 \tmax_depth: 5 \taccuracy : 0.833\n",
      "min_samples_split: 400 \tmin_samples_leaf: 80 \tmax_depth: 10 \taccuracy : 0.845\n",
      "min_samples_split: 400 \tmin_samples_leaf: 80 \tmax_depth: 20 \taccuracy : 0.8436666666666667\n",
      "min_samples_split: 400 \tmin_samples_leaf: 80 \tmax_depth: 40 \taccuracy : 0.8436666666666667\n",
      "min_samples_split: 400 \tmin_samples_leaf: 80 \tmax_depth: 80 \taccuracy : 0.8436666666666667\n"
     ]
    }
   ],
   "source": [
    "from sklearn.tree import DecisionTreeClassifier\n",
    "min_sample = [10,20,40,80,200,400]\n",
    "leaf_sample = [1,2,5,10,20,80]\n",
    "max_depth = [5,10,20,40,80]\n",
    "for est in min_sample:\n",
    "    for feat in leaf_sample:\n",
    "        for boot in max_depth:   \n",
    "            clf = DecisionTreeClassifier(min_samples_split=est, min_samples_leaf=feat,max_depth=boot)\n",
    "            clf.fit(train_X, train_Y)\n",
    "            valid_out = clf.predict(valid_X)\n",
    "            acc = accuracy_score(valid_out,valid_Y)\n",
    "            print (\"min_samples_split:\",est,\"\\tmin_samples_leaf:\",feat,\"\\tmax_depth:\",boot,\"\\taccuracy :\",acc)"
   ]
  },
  {
   "cell_type": "code",
   "execution_count": 106,
   "metadata": {},
   "outputs": [],
   "source": [
    "accur = []\n",
    "for minn in boots:\n",
    "    clf = RandomForestClassifier(bootstrap=minn)\n",
    "    clf.fit(train_X, train_Y)\n",
    "    valid_out = clf.predict(valid_X)\n",
    "    acc = accuracy_score(valid_out,valid_Y)\n",
    "    accur.append(acc)"
   ]
  },
  {
   "cell_type": "code",
   "execution_count": 107,
   "metadata": {},
   "outputs": [
    {
     "data": {
      "image/png": "[encoded data removed]",
      "text/plain": [
       "<matplotlib.figure.Figure at 0x7f730a7a24d0>"
      ]
     },
     "metadata": {},
     "output_type": "display_data"
    }
   ],
   "source": [
    "plt.plot(boots,accur,'r')\n",
    "plt.legend()\n",
    "plt.title('all accuracies with bootstrap')\n",
    "plt.xlabel(\"bootstrap\")\n",
    "plt.ylabel(\"Accuracies\")\n",
    "plt.savefig(\"../output/accuracy_boo.jpeg\")"
   ]
  },
  {
   "cell_type": "code",
   "execution_count": 101,
   "metadata": {},
   "outputs": [
    {
     "name": "stdout",
     "output_type": "stream",
     "text": [
      "training accuracy : 0.8648148148148148\n",
      "validation accuracy : 0.8526666666666667\n",
      "test accuracy : 0.8481428571428572\n"
     ]
    }
   ],
   "source": [
    "clf = DecisionTreeClassifier(min_samples_split=200, min_samples_leaf=2,max_depth=20)\n",
    "clf.fit(train_X, train_Y)\n",
    "train_out = clf.predict(train_X)\n",
    "valid_out = clf.predict(valid_X)\n",
    "test_out = clf.predict(test_X)\n",
    "print (\"training accuracy :\",accuracy_score(train_out,train_Y))\n",
    "print (\"validation accuracy :\",accuracy_score(valid_out,valid_Y))\n",
    "print (\"test accuracy :\",accuracy_score(test_out,test_Y))"
   ]
  },
  {
   "cell_type": "code",
   "execution_count": 109,
   "metadata": {},
   "outputs": [],
   "source": [
    "# def prune_tree(data,raw):\n",
    "#     if raw:\n",
    "#         num_nodes = len(global_node_list_raw)\n",
    "#     else:\n",
    "#         num_nodes = len(global_node_list)\n",
    "#     benef_list = []\n",
    "#     for i in range(num_nodes):\n",
    "#         benef_list.append(0)\n",
    "#     pos_list = []\n",
    "#     neg_list = []\n",
    "#     for i in range(len(data)):\n",
    "#         if data[i][0] == 1:\n",
    "#             pos_list.append(data[i])\n",
    "#         else:\n",
    "#             neg_list.append(data[i])\n",
    "#     if raw:\n",
    "#         accuracy_recur(pos_list,neg_list,tree_root_raw,benef_list,raw)\n",
    "#     else:\n",
    "#         accuracy_recur(pos_list,neg_list,tree_root,benef_list,raw)\n",
    "#     miss_change = []\n",
    "#     node_change = []\n",
    "#     while True:\n",
    "#         sum_benef_list = summ(benef_list,raw)\n",
    "#         minind = -1\n",
    "#         minn = 0\n",
    "#         for i in range(len(sum_benef_list)):\n",
    "#             if sum_benef_list[i] < minn :\n",
    "#                 minind = i\n",
    "#                 minn = sum_benef_list[i]\n",
    "#         if minind == -1:\n",
    "#             break\n",
    "#         if raw:\n",
    "#             node = global_node_list_raw[minind]\n",
    "#         else:\n",
    "#             node = global_node_list[minind]\n",
    "#         removed = node_count(node)\n",
    "#         miss_change.append(-1*minn/(1.0*len(data)))\n",
    "#         node_change.append(-1*removed)\n",
    "#         node.is_leaf = 1\n",
    "#         node.attr = None\n",
    "#         node.child_list = None\n",
    "#     return (miss_change,node_change)"
   ]
  },
  {
   "cell_type": "code",
   "execution_count": 110,
   "metadata": {},
   "outputs": [],
   "source": [
    "# miss_change,node_change = prune_tree(valid_data,0)"
   ]
  },
  {
   "cell_type": "code",
   "execution_count": 111,
   "metadata": {},
   "outputs": [],
   "source": [
    "# print (miss_change)\n",
    "# print (node_change)"
   ]
  },
  {
   "cell_type": "code",
   "execution_count": 112,
   "metadata": {},
   "outputs": [],
   "source": [
    "# train_accur_prune = accuracy(train_data,0)\n",
    "# valid_accur_prune = accuracy(valid_data,0)\n",
    "# test_accur_prune = accuracy(test_data,0)"
   ]
  },
  {
   "cell_type": "code",
   "execution_count": 113,
   "metadata": {},
   "outputs": [],
   "source": [
    "# import matplotlib.pyplot as plt\n",
    "# plt.plot(train_accur_prune,'r',label=\"Training\")\n",
    "# plt.plot(valid_accur_prune,'b',label=\"Validation\")\n",
    "# plt.plot(test_accur_prune,'g',label=\"Test\")\n",
    "# plt.legend()\n",
    "# plt.title('all accuracies after pruning')\n",
    "# plt.xlabel(\"Number of Nodes\")\n",
    "# plt.ylabel(\"Accuracies\")\n",
    "# plt.savefig(\"../output/accuracy_basic_prune.jpeg\")"
   ]
  },
  {
   "cell_type": "code",
   "execution_count": null,
   "metadata": {},
   "outputs": [],
   "source": []
  },
  {
   "cell_type": "code",
   "execution_count": null,
   "metadata": {},
   "outputs": [],
   "source": []
  }
 ],
 "metadata": {
  "kernelspec": {
   "display_name": "Python 2",
   "language": "python",
   "name": "python2"
  },
  "language_info": {
   "codemirror_mode": {
    "name": "ipython",
    "version": 2
   },
   "file_extension": ".py",
   "mimetype": "text/x-python",
   "name": "python",
   "nbconvert_exporter": "python",
   "pygments_lexer": "ipython2",
   "version": "2.7.12"
  }
 },
 "nbformat": 4,
 "nbformat_minor": 2
}
